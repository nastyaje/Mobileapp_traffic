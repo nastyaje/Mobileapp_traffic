{
 "cells": [
  {
   "cell_type": "markdown",
   "id": "cb2c45f9",
   "metadata": {},
   "source": [
    "В этом файле представлены данные по работе рекламных кампаний, запущенных пятью медиабайерами для привлечения пользователей в приложение.\n",
    "\n",
    "**Цель:** оценить рекламные кампании в разрезе регионов и медиабайеров.\n",
    "    \n",
    "**Задачи:**\n",
    "\n",
    "1. Определить, для каких кампаний более дешевые установки (CPI).\n",
    "\n",
    "2. Рассчитать окупаемость рекламных кампаний по медиабайерам. (ROMI)\n",
    "\n",
    "3. Рассчитать основные метрики конверсии. Определить, в каких регионах рекламные кампании имеют более низкие показатели. \n",
    "\n",
    "4. Определить, если ли зависимость между стоимостью установки и остальными метриками. \n",
    "\n",
    "5. Выводы и рекомендации.\n",
    "\n",
    "**Презентация:** https://docs.google.com/presentation/d/1RE_PRnwYgO2B-mP9sFO7O-Y1RDk7HFe2/edit?usp=sharing&ouid=103201138672129860644&rtpof=true&sd=true"
   ]
  },
  {
   "cell_type": "markdown",
   "id": "8040e842",
   "metadata": {},
   "source": [
    "**Имеющиеся поля:**\n",
    "\n",
    "* Campaign_id - ID кампании;\n",
    "* Geo - геопозиция, на которую настроена рекламная кампания;\n",
    "* Buyer - байер, выполнивший запуск;\n",
    "* Impressions - количество показов рекламных объявлений;\n",
    "* Clicks - количество кликов; \n",
    "* Installs - количество установок;\n",
    "* Registrations - количество регистраций;\n",
    "* Spend - Затраченная сумма;\n",
    "* Revenue_ad (1d/7d/30d) - Выручка с рекламы от пользователей, зарегистрировавшихся в приложении, на 1/7/30 день их жизни\n",
    "* Revenue_in_app (1d/7d/30d) - Выручка с покупок от пользователей, зарегистрировавшихся в приложении, на 1/7/30 день их жизни\n",
    "* Payers (1d/7d/30d) - Количество покупателей в приложении на 1/7/30 день их жизни "
   ]
  },
  {
   "cell_type": "code",
   "execution_count": 1,
   "id": "a3ea1029",
   "metadata": {},
   "outputs": [],
   "source": [
    "import pandas as pd\n",
    "import matplotlib.pyplot as plt\n",
    "import seaborn as sns\n",
    "import numpy as np"
   ]
  },
  {
   "cell_type": "code",
   "execution_count": 2,
   "id": "95390c27",
   "metadata": {},
   "outputs": [],
   "source": [
    "import warnings\n",
    "warnings.filterwarnings('ignore')"
   ]
  },
  {
   "cell_type": "code",
   "execution_count": 3,
   "id": "94b9ec0f",
   "metadata": {},
   "outputs": [],
   "source": [
    "path = 'E:\\ЯП/'\n",
    "df = pd.read_csv(path+'test_data.csv', decimal=',')"
   ]
  },
  {
   "cell_type": "code",
   "execution_count": 4,
   "id": "40b3d29a",
   "metadata": {},
   "outputs": [
    {
     "data": {
      "text/html": [
       "<div>\n",
       "<style scoped>\n",
       "    .dataframe tbody tr th:only-of-type {\n",
       "        vertical-align: middle;\n",
       "    }\n",
       "\n",
       "    .dataframe tbody tr th {\n",
       "        vertical-align: top;\n",
       "    }\n",
       "\n",
       "    .dataframe thead th {\n",
       "        text-align: right;\n",
       "    }\n",
       "</style>\n",
       "<table border=\"1\" class=\"dataframe\">\n",
       "  <thead>\n",
       "    <tr style=\"text-align: right;\">\n",
       "      <th></th>\n",
       "      <th>Campaign_id</th>\n",
       "      <th>Geo</th>\n",
       "      <th>Buyer</th>\n",
       "      <th>Impressions</th>\n",
       "      <th>Clicks</th>\n",
       "      <th>Installs</th>\n",
       "      <th>Registrations</th>\n",
       "      <th>Spend</th>\n",
       "      <th>Revenue_ad1d</th>\n",
       "      <th>Revenue_in_app1d</th>\n",
       "      <th>Payers1d</th>\n",
       "      <th>Revenue_ad7d</th>\n",
       "      <th>Revenue_in_app7d</th>\n",
       "      <th>Payers7d</th>\n",
       "      <th>Revenue_ad30d</th>\n",
       "      <th>Revenue_in_app30d</th>\n",
       "      <th>Payers30d</th>\n",
       "    </tr>\n",
       "  </thead>\n",
       "  <tbody>\n",
       "    <tr>\n",
       "      <th>0</th>\n",
       "      <td>1</td>\n",
       "      <td>north america</td>\n",
       "      <td>buyer_1</td>\n",
       "      <td>3456974</td>\n",
       "      <td>129508</td>\n",
       "      <td>33054</td>\n",
       "      <td>21932</td>\n",
       "      <td>3208.440002</td>\n",
       "      <td>1163.521408</td>\n",
       "      <td>162.220001</td>\n",
       "      <td>64</td>\n",
       "      <td>1381.310062</td>\n",
       "      <td>199.749999</td>\n",
       "      <td>79</td>\n",
       "      <td>1527.013835</td>\n",
       "      <td>276.629998</td>\n",
       "      <td>83</td>\n",
       "    </tr>\n",
       "    <tr>\n",
       "      <th>1</th>\n",
       "      <td>2</td>\n",
       "      <td>north america</td>\n",
       "      <td>buyer_2</td>\n",
       "      <td>245542</td>\n",
       "      <td>6306</td>\n",
       "      <td>3401</td>\n",
       "      <td>2448</td>\n",
       "      <td>1569.519999</td>\n",
       "      <td>833.059639</td>\n",
       "      <td>37.250000</td>\n",
       "      <td>17</td>\n",
       "      <td>1200.964697</td>\n",
       "      <td>69.340001</td>\n",
       "      <td>19</td>\n",
       "      <td>1449.001828</td>\n",
       "      <td>120.250001</td>\n",
       "      <td>22</td>\n",
       "    </tr>\n",
       "    <tr>\n",
       "      <th>2</th>\n",
       "      <td>3</td>\n",
       "      <td>north america</td>\n",
       "      <td>buyer_1</td>\n",
       "      <td>1281103</td>\n",
       "      <td>35724</td>\n",
       "      <td>13315</td>\n",
       "      <td>8101</td>\n",
       "      <td>1231.999998</td>\n",
       "      <td>459.682600</td>\n",
       "      <td>3.260000</td>\n",
       "      <td>4</td>\n",
       "      <td>524.987826</td>\n",
       "      <td>24.700000</td>\n",
       "      <td>6</td>\n",
       "      <td>572.633765</td>\n",
       "      <td>24.700000</td>\n",
       "      <td>6</td>\n",
       "    </tr>\n",
       "    <tr>\n",
       "      <th>3</th>\n",
       "      <td>4</td>\n",
       "      <td>north america</td>\n",
       "      <td>buyer_1</td>\n",
       "      <td>215538</td>\n",
       "      <td>9987</td>\n",
       "      <td>3119</td>\n",
       "      <td>1857</td>\n",
       "      <td>1228.129999</td>\n",
       "      <td>602.778160</td>\n",
       "      <td>26.130000</td>\n",
       "      <td>11</td>\n",
       "      <td>830.113889</td>\n",
       "      <td>33.439999</td>\n",
       "      <td>12</td>\n",
       "      <td>1042.831595</td>\n",
       "      <td>57.530002</td>\n",
       "      <td>12</td>\n",
       "    </tr>\n",
       "    <tr>\n",
       "      <th>4</th>\n",
       "      <td>5</td>\n",
       "      <td>western europe</td>\n",
       "      <td>buyer_2</td>\n",
       "      <td>335878</td>\n",
       "      <td>7343</td>\n",
       "      <td>3952</td>\n",
       "      <td>2955</td>\n",
       "      <td>872.570005</td>\n",
       "      <td>427.807238</td>\n",
       "      <td>19.030001</td>\n",
       "      <td>4</td>\n",
       "      <td>577.039081</td>\n",
       "      <td>20.640001</td>\n",
       "      <td>5</td>\n",
       "      <td>714.554179</td>\n",
       "      <td>32.150001</td>\n",
       "      <td>6</td>\n",
       "    </tr>\n",
       "  </tbody>\n",
       "</table>\n",
       "</div>"
      ],
      "text/plain": [
       "   Campaign_id             Geo    Buyer  Impressions  Clicks  Installs  \\\n",
       "0            1   north america  buyer_1      3456974  129508     33054   \n",
       "1            2   north america  buyer_2       245542    6306      3401   \n",
       "2            3   north america  buyer_1      1281103   35724     13315   \n",
       "3            4   north america  buyer_1       215538    9987      3119   \n",
       "4            5  western europe  buyer_2       335878    7343      3952   \n",
       "\n",
       "   Registrations        Spend  Revenue_ad1d  Revenue_in_app1d  Payers1d  \\\n",
       "0          21932  3208.440002   1163.521408        162.220001        64   \n",
       "1           2448  1569.519999    833.059639         37.250000        17   \n",
       "2           8101  1231.999998    459.682600          3.260000         4   \n",
       "3           1857  1228.129999    602.778160         26.130000        11   \n",
       "4           2955   872.570005    427.807238         19.030001         4   \n",
       "\n",
       "   Revenue_ad7d  Revenue_in_app7d  Payers7d  Revenue_ad30d  Revenue_in_app30d  \\\n",
       "0   1381.310062        199.749999        79    1527.013835         276.629998   \n",
       "1   1200.964697         69.340001        19    1449.001828         120.250001   \n",
       "2    524.987826         24.700000         6     572.633765          24.700000   \n",
       "3    830.113889         33.439999        12    1042.831595          57.530002   \n",
       "4    577.039081         20.640001         5     714.554179          32.150001   \n",
       "\n",
       "   Payers30d  \n",
       "0         83  \n",
       "1         22  \n",
       "2          6  \n",
       "3         12  \n",
       "4          6  "
      ]
     },
     "execution_count": 4,
     "metadata": {},
     "output_type": "execute_result"
    }
   ],
   "source": [
    "df.head()"
   ]
  },
  {
   "cell_type": "code",
   "execution_count": 5,
   "id": "d9ee1044",
   "metadata": {},
   "outputs": [],
   "source": [
    "df.columns = df.columns.str.lower()"
   ]
  },
  {
   "cell_type": "code",
   "execution_count": 6,
   "id": "a5a0c365",
   "metadata": {},
   "outputs": [
    {
     "name": "stdout",
     "output_type": "stream",
     "text": [
      "<class 'pandas.core.frame.DataFrame'>\n",
      "RangeIndex: 87 entries, 0 to 86\n",
      "Data columns (total 17 columns):\n",
      " #   Column             Non-Null Count  Dtype  \n",
      "---  ------             --------------  -----  \n",
      " 0   campaign_id        87 non-null     int64  \n",
      " 1   geo                87 non-null     object \n",
      " 2   buyer              87 non-null     object \n",
      " 3   impressions        87 non-null     int64  \n",
      " 4   clicks             87 non-null     int64  \n",
      " 5   installs           87 non-null     int64  \n",
      " 6   registrations      87 non-null     int64  \n",
      " 7   spend              87 non-null     float64\n",
      " 8   revenue_ad1d       87 non-null     float64\n",
      " 9   revenue_in_app1d   87 non-null     float64\n",
      " 10  payers1d           87 non-null     int64  \n",
      " 11  revenue_ad7d       87 non-null     float64\n",
      " 12  revenue_in_app7d   87 non-null     float64\n",
      " 13  payers7d           87 non-null     int64  \n",
      " 14  revenue_ad30d      87 non-null     float64\n",
      " 15  revenue_in_app30d  87 non-null     float64\n",
      " 16  payers30d          87 non-null     int64  \n",
      "dtypes: float64(7), int64(8), object(2)\n",
      "memory usage: 11.7+ KB\n"
     ]
    }
   ],
   "source": [
    "# проверка типов данных, пропусков\n",
    "df.info()"
   ]
  },
  {
   "cell_type": "code",
   "execution_count": 7,
   "id": "10e5539d",
   "metadata": {},
   "outputs": [
    {
     "data": {
      "text/plain": [
       "array(['north america', 'western europe', 'cis', 'north africa',\n",
       "       'latin america', 'tropical africa', 'australia oceania'],\n",
       "      dtype=object)"
      ]
     },
     "execution_count": 7,
     "metadata": {},
     "output_type": "execute_result"
    }
   ],
   "source": [
    "df['geo'].unique()"
   ]
  },
  {
   "cell_type": "markdown",
   "id": "b5012e15",
   "metadata": {},
   "source": [
    "**Всего в данных содержится информация об 87 рекламных кампаниях по 7 регионам, запущенных 5 медиабайерами.**"
   ]
  },
  {
   "cell_type": "markdown",
   "id": "e15ee9f8",
   "metadata": {},
   "source": [
    "### Распределение по регионам и медиабайерам"
   ]
  },
  {
   "cell_type": "code",
   "execution_count": 8,
   "id": "eba2b367",
   "metadata": {},
   "outputs": [
    {
     "data": {
      "image/png": "[encoded data removed]",
      "text/plain": [
       "<Figure size 864x864 with 2 Axes>"
      ]
     },
     "metadata": {},
     "output_type": "display_data"
    }
   ],
   "source": [
    "plt.figure(figsize = (12,12))\n",
    "plt.subplot(1, 2, 1)\n",
    "df['buyer'].value_counts().plot(kind = 'pie', autopct='%1.0f%%')\n",
    "plt.ylabel('')\n",
    "plt.title('Распределение рекламных кампаний по медиабайерам')\n",
    "plt.subplot(1, 2, 2)\n",
    "df['geo'].value_counts().plot(kind = 'pie', autopct='%1.0f%%')\n",
    "plt.ylabel('')\n",
    "plt.title('Распределение рекламных кампаний по регионам');"
   ]
  },
  {
   "cell_type": "markdown",
   "id": "536b5678",
   "metadata": {},
   "source": [
    "**45% кампаний приходится на медиабайра №2, 21% и 18% на медиабайеров №1 и №4, соответственно.**\n",
    "\n",
    "**Больше половины кампаний (55%) запущены в Северной Америке, 25% в Восточной Европе и 11% в странах СНГ**. На остальные регионы приходится менее по 1-3%, поэтому по данным регионам будет мало информации."
   ]
  },
  {
   "cell_type": "code",
   "execution_count": 9,
   "id": "d061dccd",
   "metadata": {},
   "outputs": [
    {
     "data": {
      "image/png": "[encoded data removed]",
      "text/plain": [
       "<Figure size 720x432 with 1 Axes>"
      ]
     },
     "metadata": {
      "needs_background": "light"
     },
     "output_type": "display_data"
    }
   ],
   "source": [
    "df.groupby(['buyer', 'geo'])['campaign_id'].count().unstack().sort_values(by = 'north america', \\\n",
    "ascending = False).plot(kind='bar', stacked=True, figsize = (10, 6))\n",
    "plt.xlabel('')\n",
    "plt.xticks(rotation = 0)\n",
    "plt.ylabel('Количество кампаний');"
   ]
  },
  {
   "cell_type": "markdown",
   "id": "f7b39ff4",
   "metadata": {},
   "source": [
    "**Медиабайер №3 запускал кампании только в Северной Америке, медиабайер №5 имеет запуски по 5 регионам.**"
   ]
  },
  {
   "cell_type": "markdown",
   "id": "2b559ca5",
   "metadata": {},
   "source": [
    "## 1. Определить, для каких кампаний более дешевые установки (CPI)."
   ]
  },
  {
   "cell_type": "markdown",
   "id": "8a90397c",
   "metadata": {},
   "source": [
    "В задании указана метрика CPI (Cost Per Install), то есть предполагается, что столбец spend относится именно к установкам и оплата производится по установкам.\n",
    "\n",
    "Формула для расчета: **CPI = Ad Spend / Installs From Campaign**"
   ]
  },
  {
   "cell_type": "code",
   "execution_count": 10,
   "id": "faf36452",
   "metadata": {},
   "outputs": [],
   "source": [
    "df['cpi'] = df['spend']/df['installs']"
   ]
  },
  {
   "cell_type": "code",
   "execution_count": 11,
   "id": "02dec784",
   "metadata": {},
   "outputs": [
    {
     "data": {
      "image/png": "[encoded data removed]",
      "text/plain": [
       "<Figure size 432x288 with 1 Axes>"
      ]
     },
     "metadata": {
      "needs_background": "light"
     },
     "output_type": "display_data"
    }
   ],
   "source": [
    "df['cpi'].hist();"
   ]
  },
  {
   "cell_type": "markdown",
   "id": "1cd83ce3",
   "metadata": {},
   "source": [
    "Большинство значений находится в диапазоне до 1 у.е. за установку. Хорошо виден **выброс в 2 у.е.**"
   ]
  },
  {
   "cell_type": "code",
   "execution_count": 12,
   "id": "ae65efbe",
   "metadata": {},
   "outputs": [
    {
     "data": {
      "text/html": [
       "<div>\n",
       "<style scoped>\n",
       "    .dataframe tbody tr th:only-of-type {\n",
       "        vertical-align: middle;\n",
       "    }\n",
       "\n",
       "    .dataframe tbody tr th {\n",
       "        vertical-align: top;\n",
       "    }\n",
       "\n",
       "    .dataframe thead th {\n",
       "        text-align: right;\n",
       "    }\n",
       "</style>\n",
       "<table border=\"1\" class=\"dataframe\">\n",
       "  <thead>\n",
       "    <tr style=\"text-align: right;\">\n",
       "      <th></th>\n",
       "      <th>campaign_id</th>\n",
       "      <th>geo</th>\n",
       "      <th>buyer</th>\n",
       "      <th>impressions</th>\n",
       "      <th>clicks</th>\n",
       "      <th>installs</th>\n",
       "      <th>registrations</th>\n",
       "      <th>spend</th>\n",
       "      <th>revenue_ad1d</th>\n",
       "      <th>revenue_in_app1d</th>\n",
       "      <th>payers1d</th>\n",
       "      <th>revenue_ad7d</th>\n",
       "      <th>revenue_in_app7d</th>\n",
       "      <th>payers7d</th>\n",
       "      <th>revenue_ad30d</th>\n",
       "      <th>revenue_in_app30d</th>\n",
       "      <th>payers30d</th>\n",
       "      <th>cpi</th>\n",
       "    </tr>\n",
       "  </thead>\n",
       "  <tbody>\n",
       "    <tr>\n",
       "      <th>80</th>\n",
       "      <td>81</td>\n",
       "      <td>australia oceania</td>\n",
       "      <td>buyer_5</td>\n",
       "      <td>2185</td>\n",
       "      <td>53</td>\n",
       "      <td>10</td>\n",
       "      <td>9</td>\n",
       "      <td>21.549999</td>\n",
       "      <td>1.187304</td>\n",
       "      <td>0.0</td>\n",
       "      <td>0</td>\n",
       "      <td>1.212664</td>\n",
       "      <td>0.0</td>\n",
       "      <td>0</td>\n",
       "      <td>1.212664</td>\n",
       "      <td>0.0</td>\n",
       "      <td>0</td>\n",
       "      <td>2.155</td>\n",
       "    </tr>\n",
       "  </tbody>\n",
       "</table>\n",
       "</div>"
      ],
      "text/plain": [
       "    campaign_id                geo    buyer  impressions  clicks  installs  \\\n",
       "80           81  australia oceania  buyer_5         2185      53        10   \n",
       "\n",
       "    registrations      spend  revenue_ad1d  revenue_in_app1d  payers1d  \\\n",
       "80              9  21.549999      1.187304               0.0         0   \n",
       "\n",
       "    revenue_ad7d  revenue_in_app7d  payers7d  revenue_ad30d  \\\n",
       "80      1.212664               0.0         0       1.212664   \n",
       "\n",
       "    revenue_in_app30d  payers30d    cpi  \n",
       "80                0.0          0  2.155  "
      ]
     },
     "execution_count": 12,
     "metadata": {},
     "output_type": "execute_result"
    }
   ],
   "source": [
    "# проверка выброса\n",
    "df.query('cpi > 2')"
   ]
  },
  {
   "cell_type": "markdown",
   "id": "d14324e8",
   "metadata": {},
   "source": [
    "**Данный выброс** характерен для единственной **кампании в Австралии и Океании, запущенной медиабайром №5.** "
   ]
  },
  {
   "cell_type": "code",
   "execution_count": 82,
   "id": "7bd4129e",
   "metadata": {},
   "outputs": [],
   "source": [
    "# функция для построения боксплота\n",
    "def boxplot_func(df, column, by, num, ed):\n",
    "    ax = df.boxplot(column=[column], by=by, ax = axes[num])\n",
    "    plt.xticks(rotation = 45)\n",
    "    ax.set_title(f'Распределение {column} по {by}')\n",
    "    ax.set_xlabel('')\n",
    "    ax.set_ylabel(f'{column}, {ed}')\n",
    "    plt.suptitle('')"
   ]
  },
  {
   "cell_type": "code",
   "execution_count": 83,
   "id": "e3a60a43",
   "metadata": {},
   "outputs": [
    {
     "data": {
      "image/png": "[encoded data removed]",
      "text/plain": [
       "<Figure size 1008x288 with 2 Axes>"
      ]
     },
     "metadata": {
      "needs_background": "light"
     },
     "output_type": "display_data"
    }
   ],
   "source": [
    "fig, axes = plt.subplots(nrows=1, ncols=2, figsize = (14, 4))\n",
    "boxplot_func(df.query('cpi < 2'), 'cpi', 'buyer', 0, 'y.e.')\n",
    "boxplot_func(df.query('cpi < 2'), 'cpi', 'geo', 1, 'y.e.')"
   ]
  },
  {
   "cell_type": "markdown",
   "id": "53029585",
   "metadata": {},
   "source": [
    "При рассмотрении CPI без верхнего выброса видно, что **максимальная медиана CPI характерна для медиабайера №3**, минимальная для медиабайера №1. \n",
    "\n",
    "Среди регионов самое высокое значение медианы CPI в Северной Америке и Восточной Европе. **Более \"дешевые\" установки у кампаний в Африке и Латинской Америке.**"
   ]
  },
  {
   "cell_type": "code",
   "execution_count": 16,
   "id": "cf2b2c51",
   "metadata": {},
   "outputs": [
    {
     "data": {
      "text/html": [
       "<style type=\"text/css\">\n",
       "#T_89691_row0_col0, #T_89691_row0_col6, #T_89691_row1_col5, #T_89691_row4_col3, #T_89691_row4_col4 {\n",
       "  background-color: #fff7fb;\n",
       "  color: #000000;\n",
       "}\n",
       "#T_89691_row0_col3, #T_89691_row0_col4, #T_89691_row0_col5, #T_89691_row1_col0, #T_89691_row4_col6 {\n",
       "  background-color: #023858;\n",
       "  color: #f1f1f1;\n",
       "}\n",
       "#T_89691_row1_col3, #T_89691_row1_col6 {\n",
       "  background-color: #f4edf6;\n",
       "  color: #000000;\n",
       "}\n",
       "#T_89691_row1_col4 {\n",
       "  background-color: #fbf4f9;\n",
       "  color: #000000;\n",
       "}\n",
       "#T_89691_row2_col0 {\n",
       "  background-color: #1e80b8;\n",
       "  color: #f1f1f1;\n",
       "}\n",
       "#T_89691_row2_col3 {\n",
       "  background-color: #fdf5fa;\n",
       "  color: #000000;\n",
       "}\n",
       "#T_89691_row2_col4 {\n",
       "  background-color: #f2ecf5;\n",
       "  color: #000000;\n",
       "}\n",
       "#T_89691_row2_col5 {\n",
       "  background-color: #e5e1ef;\n",
       "  color: #000000;\n",
       "}\n",
       "#T_89691_row2_col6 {\n",
       "  background-color: #a5bddb;\n",
       "  color: #000000;\n",
       "}\n",
       "#T_89691_row3_col0 {\n",
       "  background-color: #e2dfee;\n",
       "  color: #000000;\n",
       "}\n",
       "#T_89691_row3_col3 {\n",
       "  background-color: #c6cce3;\n",
       "  color: #000000;\n",
       "}\n",
       "#T_89691_row3_col4 {\n",
       "  background-color: #d9d8ea;\n",
       "  color: #000000;\n",
       "}\n",
       "#T_89691_row3_col5 {\n",
       "  background-color: #3790c0;\n",
       "  color: #f1f1f1;\n",
       "}\n",
       "#T_89691_row3_col6 {\n",
       "  background-color: #0568a3;\n",
       "  color: #f1f1f1;\n",
       "}\n",
       "#T_89691_row4_col0 {\n",
       "  background-color: #509ac6;\n",
       "  color: #f1f1f1;\n",
       "}\n",
       "#T_89691_row4_col5 {\n",
       "  background-color: #d2d3e7;\n",
       "  color: #000000;\n",
       "}\n",
       "</style>\n",
       "<table id=\"T_89691\">\n",
       "  <thead>\n",
       "    <tr>\n",
       "      <th class=\"blank level0\" >&nbsp;</th>\n",
       "      <th id=\"T_89691_level0_col0\" class=\"col_heading level0 col0\" >campaign_id</th>\n",
       "      <th id=\"T_89691_level0_col1\" class=\"col_heading level0 col1\" >geo</th>\n",
       "      <th id=\"T_89691_level0_col2\" class=\"col_heading level0 col2\" >buyer</th>\n",
       "      <th id=\"T_89691_level0_col3\" class=\"col_heading level0 col3\" >impressions</th>\n",
       "      <th id=\"T_89691_level0_col4\" class=\"col_heading level0 col4\" >registrations</th>\n",
       "      <th id=\"T_89691_level0_col5\" class=\"col_heading level0 col5\" >spend</th>\n",
       "      <th id=\"T_89691_level0_col6\" class=\"col_heading level0 col6\" >cpi</th>\n",
       "    </tr>\n",
       "  </thead>\n",
       "  <tbody>\n",
       "    <tr>\n",
       "      <th id=\"T_89691_level0_row0\" class=\"row_heading level0 row0\" >20</th>\n",
       "      <td id=\"T_89691_row0_col0\" class=\"data row0 col0\" >21</td>\n",
       "      <td id=\"T_89691_row0_col1\" class=\"data row0 col1\" >north africa</td>\n",
       "      <td id=\"T_89691_row0_col2\" class=\"data row0 col2\" >buyer_5</td>\n",
       "      <td id=\"T_89691_row0_col3\" class=\"data row0 col3\" >794504</td>\n",
       "      <td id=\"T_89691_row0_col4\" class=\"data row0 col4\" >6218</td>\n",
       "      <td id=\"T_89691_row0_col5\" class=\"data row0 col5\" >204.389999</td>\n",
       "      <td id=\"T_89691_row0_col6\" class=\"data row0 col6\" >0.025330</td>\n",
       "    </tr>\n",
       "    <tr>\n",
       "      <th id=\"T_89691_level0_row1\" class=\"row_heading level0 row1\" >55</th>\n",
       "      <td id=\"T_89691_row1_col0\" class=\"data row1 col0\" >56</td>\n",
       "      <td id=\"T_89691_row1_col1\" class=\"data row1 col1\" >north africa</td>\n",
       "      <td id=\"T_89691_row1_col2\" class=\"data row1 col2\" >buyer_5</td>\n",
       "      <td id=\"T_89691_row1_col3\" class=\"data row1 col3\" >154149</td>\n",
       "      <td id=\"T_89691_row1_col4\" class=\"data row1 col4\" >851</td>\n",
       "      <td id=\"T_89691_row1_col5\" class=\"data row1 col5\" >43.500000</td>\n",
       "      <td id=\"T_89691_row1_col6\" class=\"data row1 col6\" >0.027341</td>\n",
       "    </tr>\n",
       "    <tr>\n",
       "      <th id=\"T_89691_level0_row2\" class=\"row_heading level0 row2\" >44</th>\n",
       "      <td id=\"T_89691_row2_col0\" class=\"data row2 col0\" >45</td>\n",
       "      <td id=\"T_89691_row2_col1\" class=\"data row2 col1\" >latin america</td>\n",
       "      <td id=\"T_89691_row2_col2\" class=\"data row2 col2\" >buyer_1</td>\n",
       "      <td id=\"T_89691_row2_col3\" class=\"data row2 col3\" >113452</td>\n",
       "      <td id=\"T_89691_row2_col4\" class=\"data row2 col4\" >1195</td>\n",
       "      <td id=\"T_89691_row2_col5\" class=\"data row2 col5\" >69.079998</td>\n",
       "      <td id=\"T_89691_row2_col6\" class=\"data row2 col6\" >0.035084</td>\n",
       "    </tr>\n",
       "    <tr>\n",
       "      <th id=\"T_89691_level0_row3\" class=\"row_heading level0 row3\" >26</th>\n",
       "      <td id=\"T_89691_row3_col0\" class=\"data row3 col0\" >27</td>\n",
       "      <td id=\"T_89691_row3_col1\" class=\"data row3 col1\" >latin america</td>\n",
       "      <td id=\"T_89691_row3_col2\" class=\"data row3 col2\" >buyer_1</td>\n",
       "      <td id=\"T_89691_row3_col3\" class=\"data row3 col3\" >295356</td>\n",
       "      <td id=\"T_89691_row3_col4\" class=\"data row3 col4\" >1880</td>\n",
       "      <td id=\"T_89691_row3_col5\" class=\"data row3 col5\" >143.820002</td>\n",
       "      <td id=\"T_89691_row3_col6\" class=\"data row3 col6\" >0.045905</td>\n",
       "    </tr>\n",
       "    <tr>\n",
       "      <th id=\"T_89691_level0_row4\" class=\"row_heading level0 row4\" >40</th>\n",
       "      <td id=\"T_89691_row4_col0\" class=\"data row4 col0\" >41</td>\n",
       "      <td id=\"T_89691_row4_col1\" class=\"data row4 col1\" >north america</td>\n",
       "      <td id=\"T_89691_row4_col2\" class=\"data row4 col2\" >buyer_2</td>\n",
       "      <td id=\"T_89691_row4_col3\" class=\"data row4 col3\" >100570</td>\n",
       "      <td id=\"T_89691_row4_col4\" class=\"data row4 col4\" >714</td>\n",
       "      <td id=\"T_89691_row4_col5\" class=\"data row4 col5\" >82.389999</td>\n",
       "      <td id=\"T_89691_row4_col6\" class=\"data row4 col6\" >0.051174</td>\n",
       "    </tr>\n",
       "  </tbody>\n",
       "</table>\n"
      ],
      "text/plain": [
       "<pandas.io.formats.style.Styler at 0x23acda2b820>"
      ]
     },
     "execution_count": 16,
     "metadata": {},
     "output_type": "execute_result"
    }
   ],
   "source": [
    "# топ 5 кампаний с низким значением CPI\n",
    "df.query('cpi <= cpi.quantile(0.05)')[['campaign_id', 'geo', 'buyer', 'impressions', 'registrations', 'spend', 'cpi']]\\\n",
    ".sort_values(by = 'cpi').head(5).style.background_gradient()"
   ]
  },
  {
   "cell_type": "markdown",
   "id": "2c075f3a",
   "metadata": {},
   "source": [
    "Таким образом, низкие значения CPI характерны для крупных рекламных кампаний по Северной Африке (медиабайер №5) и по Латинской Америке (медиабайер №1)."
   ]
  },
  {
   "cell_type": "code",
   "execution_count": 18,
   "id": "9986bc94",
   "metadata": {
    "scrolled": true
   },
   "outputs": [
    {
     "data": {
      "text/html": [
       "<style type=\"text/css\">\n",
       "#T_50c7b_row0_col0, #T_50c7b_row0_col6, #T_50c7b_row1_col3, #T_50c7b_row1_col4, #T_50c7b_row1_col5 {\n",
       "  background-color: #023858;\n",
       "  color: #f1f1f1;\n",
       "}\n",
       "#T_50c7b_row0_col3, #T_50c7b_row0_col4, #T_50c7b_row0_col5, #T_50c7b_row1_col0, #T_50c7b_row4_col6 {\n",
       "  background-color: #fff7fb;\n",
       "  color: #000000;\n",
       "}\n",
       "#T_50c7b_row1_col6, #T_50c7b_row4_col3 {\n",
       "  background-color: #f5eef6;\n",
       "  color: #000000;\n",
       "}\n",
       "#T_50c7b_row2_col0 {\n",
       "  background-color: #c6cce3;\n",
       "  color: #000000;\n",
       "}\n",
       "#T_50c7b_row2_col3 {\n",
       "  background-color: #d9d8ea;\n",
       "  color: #000000;\n",
       "}\n",
       "#T_50c7b_row2_col4 {\n",
       "  background-color: #acc0dd;\n",
       "  color: #000000;\n",
       "}\n",
       "#T_50c7b_row2_col5 {\n",
       "  background-color: #adc1dd;\n",
       "  color: #000000;\n",
       "}\n",
       "#T_50c7b_row2_col6, #T_50c7b_row3_col4 {\n",
       "  background-color: #faf2f8;\n",
       "  color: #000000;\n",
       "}\n",
       "#T_50c7b_row3_col0 {\n",
       "  background-color: #056fae;\n",
       "  color: #f1f1f1;\n",
       "}\n",
       "#T_50c7b_row3_col3 {\n",
       "  background-color: #f6eff7;\n",
       "  color: #000000;\n",
       "}\n",
       "#T_50c7b_row3_col5 {\n",
       "  background-color: #fbf3f9;\n",
       "  color: #000000;\n",
       "}\n",
       "#T_50c7b_row3_col6 {\n",
       "  background-color: #fbf4f9;\n",
       "  color: #000000;\n",
       "}\n",
       "#T_50c7b_row4_col0 {\n",
       "  background-color: #589ec8;\n",
       "  color: #f1f1f1;\n",
       "}\n",
       "#T_50c7b_row4_col4 {\n",
       "  background-color: #f0eaf4;\n",
       "  color: #000000;\n",
       "}\n",
       "#T_50c7b_row4_col5 {\n",
       "  background-color: #eee9f3;\n",
       "  color: #000000;\n",
       "}\n",
       "</style>\n",
       "<table id=\"T_50c7b\">\n",
       "  <thead>\n",
       "    <tr>\n",
       "      <th class=\"blank level0\" >&nbsp;</th>\n",
       "      <th id=\"T_50c7b_level0_col0\" class=\"col_heading level0 col0\" >campaign_id</th>\n",
       "      <th id=\"T_50c7b_level0_col1\" class=\"col_heading level0 col1\" >geo</th>\n",
       "      <th id=\"T_50c7b_level0_col2\" class=\"col_heading level0 col2\" >buyer</th>\n",
       "      <th id=\"T_50c7b_level0_col3\" class=\"col_heading level0 col3\" >impressions</th>\n",
       "      <th id=\"T_50c7b_level0_col4\" class=\"col_heading level0 col4\" >registrations</th>\n",
       "      <th id=\"T_50c7b_level0_col5\" class=\"col_heading level0 col5\" >spend</th>\n",
       "      <th id=\"T_50c7b_level0_col6\" class=\"col_heading level0 col6\" >cpi</th>\n",
       "    </tr>\n",
       "  </thead>\n",
       "  <tbody>\n",
       "    <tr>\n",
       "      <th id=\"T_50c7b_level0_row0\" class=\"row_heading level0 row0\" >80</th>\n",
       "      <td id=\"T_50c7b_row0_col0\" class=\"data row0 col0\" >81</td>\n",
       "      <td id=\"T_50c7b_row0_col1\" class=\"data row0 col1\" >australia oceania</td>\n",
       "      <td id=\"T_50c7b_row0_col2\" class=\"data row0 col2\" >buyer_5</td>\n",
       "      <td id=\"T_50c7b_row0_col3\" class=\"data row0 col3\" >2185</td>\n",
       "      <td id=\"T_50c7b_row0_col4\" class=\"data row0 col4\" >9</td>\n",
       "      <td id=\"T_50c7b_row0_col5\" class=\"data row0 col5\" >21.549999</td>\n",
       "      <td id=\"T_50c7b_row0_col6\" class=\"data row0 col6\" >2.155000</td>\n",
       "    </tr>\n",
       "    <tr>\n",
       "      <th id=\"T_50c7b_level0_row1\" class=\"row_heading level0 row1\" >19</th>\n",
       "      <td id=\"T_50c7b_row1_col0\" class=\"data row1 col0\" >20</td>\n",
       "      <td id=\"T_50c7b_row1_col1\" class=\"data row1 col1\" >north america</td>\n",
       "      <td id=\"T_50c7b_row1_col2\" class=\"data row1 col2\" >buyer_4</td>\n",
       "      <td id=\"T_50c7b_row1_col3\" class=\"data row1 col3\" >39441</td>\n",
       "      <td id=\"T_50c7b_row1_col4\" class=\"data row1 col4\" >231</td>\n",
       "      <td id=\"T_50c7b_row1_col5\" class=\"data row1 col5\" >233.390001</td>\n",
       "      <td id=\"T_50c7b_row1_col6\" class=\"data row1 col6\" >0.802027</td>\n",
       "    </tr>\n",
       "    <tr>\n",
       "      <th id=\"T_50c7b_level0_row2\" class=\"row_heading level0 row2\" >36</th>\n",
       "      <td id=\"T_50c7b_row2_col0\" class=\"data row2 col0\" >37</td>\n",
       "      <td id=\"T_50c7b_row2_col1\" class=\"data row2 col1\" >north america</td>\n",
       "      <td id=\"T_50c7b_row2_col2\" class=\"data row2 col2\" >buyer_5</td>\n",
       "      <td id=\"T_50c7b_row2_col3\" class=\"data row2 col3\" >9923</td>\n",
       "      <td id=\"T_50c7b_row2_col4\" class=\"data row2 col4\" >88</td>\n",
       "      <td id=\"T_50c7b_row2_col5\" class=\"data row2 col5\" >96.740000</td>\n",
       "      <td id=\"T_50c7b_row2_col6\" class=\"data row2 col6\" >0.755781</td>\n",
       "    </tr>\n",
       "    <tr>\n",
       "      <th id=\"T_50c7b_level0_row3\" class=\"row_heading level0 row3\" >65</th>\n",
       "      <td id=\"T_50c7b_row3_col0\" class=\"data row3 col0\" >66</td>\n",
       "      <td id=\"T_50c7b_row3_col1\" class=\"data row3 col1\" >western europe</td>\n",
       "      <td id=\"T_50c7b_row3_col2\" class=\"data row3 col2\" >buyer_2</td>\n",
       "      <td id=\"T_50c7b_row3_col3\" class=\"data row3 col3\" >4379</td>\n",
       "      <td id=\"T_50c7b_row3_col4\" class=\"data row3 col4\" >17</td>\n",
       "      <td id=\"T_50c7b_row3_col5\" class=\"data row3 col5\" >27.459999</td>\n",
       "      <td id=\"T_50c7b_row3_col6\" class=\"data row3 col6\" >0.742162</td>\n",
       "    </tr>\n",
       "    <tr>\n",
       "      <th id=\"T_50c7b_level0_row4\" class=\"row_heading level0 row4\" >53</th>\n",
       "      <td id=\"T_50c7b_row4_col0\" class=\"data row4 col0\" >54</td>\n",
       "      <td id=\"T_50c7b_row4_col1\" class=\"data row4 col1\" >north america</td>\n",
       "      <td id=\"T_50c7b_row4_col2\" class=\"data row4 col2\" >buyer_4</td>\n",
       "      <td id=\"T_50c7b_row4_col3\" class=\"data row4 col3\" >4778</td>\n",
       "      <td id=\"T_50c7b_row4_col4\" class=\"data row4 col4\" >31</td>\n",
       "      <td id=\"T_50c7b_row4_col5\" class=\"data row4 col5\" >45.010000</td>\n",
       "      <td id=\"T_50c7b_row4_col6\" class=\"data row4 col6\" >0.703281</td>\n",
       "    </tr>\n",
       "  </tbody>\n",
       "</table>\n"
      ],
      "text/plain": [
       "<pandas.io.formats.style.Styler at 0x23ad0fdf2b0>"
      ]
     },
     "execution_count": 18,
     "metadata": {},
     "output_type": "execute_result"
    }
   ],
   "source": [
    "# топ 5 кампаний с высоким значением CPI\n",
    "df[['campaign_id', 'geo', 'buyer', 'impressions', 'registrations', 'spend', 'cpi']]\\\n",
    ".sort_values(by = 'cpi', ascending = False).head(5).style.background_gradient()"
   ]
  },
  {
   "cell_type": "markdown",
   "id": "6582e340",
   "metadata": {},
   "source": [
    "**Выводы:**\n",
    "\n",
    "1) Диапазон значений CPI от 0.025 у.е. до 2.155 у.е., но для большей части рекламных кампаний это значение ниже 1 у.е.\n",
    "\n",
    "2) **Наиболее дешевые установки (CPI) характерны для регионов Африки и Латинской Америки**, соответственно для медиабайеров №1 и №5. Наиболее дорогие в регионах Северной Америки и Восточной Европе, но имеется большой разброс в зависимости от рекламной кампании (даже у одного медиабайера)."
   ]
  },
  {
   "cell_type": "markdown",
   "id": "dc5500c6",
   "metadata": {},
   "source": [
    "### 2. Основные метрики конверсии"
   ]
  },
  {
   "cell_type": "markdown",
   "id": "6fb60b59",
   "metadata": {},
   "source": [
    "Рассчитаем **конверсию по всем действиям** (воронка: показы -> клики -> установка -> регистрация). "
   ]
  },
  {
   "cell_type": "markdown",
   "id": "4f1112cc",
   "metadata": {},
   "source": [
    "#### 2.1. CTR"
   ]
  },
  {
   "cell_type": "code",
   "execution_count": 19,
   "id": "31b0a061",
   "metadata": {},
   "outputs": [],
   "source": [
    "# конверсия кликов из показов (CTR)\n",
    "df['ctr'] = df['clicks']/df['impressions']*100"
   ]
  },
  {
   "cell_type": "code",
   "execution_count": 20,
   "id": "95c65049",
   "metadata": {},
   "outputs": [
    {
     "data": {
      "image/png": "[encoded data removed]",
      "text/plain": [
       "<Figure size 432x288 with 1 Axes>"
      ]
     },
     "metadata": {
      "needs_background": "light"
     },
     "output_type": "display_data"
    }
   ],
   "source": [
    "df['ctr'].hist();"
   ]
  },
  {
   "cell_type": "markdown",
   "id": "d4c3a05f",
   "metadata": {},
   "source": [
    "Диапазон значений CTR от 1 до 8%. **Для большей части кампаний характерны значения в диапазоне от 2.5 до 3.7%.** На графике выделяется кампания с CTR выше 7%."
   ]
  },
  {
   "cell_type": "code",
   "execution_count": 21,
   "id": "c5b51107",
   "metadata": {},
   "outputs": [
    {
     "data": {
      "text/html": [
       "<div>\n",
       "<style scoped>\n",
       "    .dataframe tbody tr th:only-of-type {\n",
       "        vertical-align: middle;\n",
       "    }\n",
       "\n",
       "    .dataframe tbody tr th {\n",
       "        vertical-align: top;\n",
       "    }\n",
       "\n",
       "    .dataframe thead th {\n",
       "        text-align: right;\n",
       "    }\n",
       "</style>\n",
       "<table border=\"1\" class=\"dataframe\">\n",
       "  <thead>\n",
       "    <tr style=\"text-align: right;\">\n",
       "      <th></th>\n",
       "      <th>campaign_id</th>\n",
       "      <th>geo</th>\n",
       "      <th>buyer</th>\n",
       "      <th>impressions</th>\n",
       "      <th>clicks</th>\n",
       "      <th>installs</th>\n",
       "      <th>registrations</th>\n",
       "      <th>spend</th>\n",
       "      <th>revenue_ad1d</th>\n",
       "      <th>revenue_in_app1d</th>\n",
       "      <th>payers1d</th>\n",
       "      <th>revenue_ad7d</th>\n",
       "      <th>revenue_in_app7d</th>\n",
       "      <th>payers7d</th>\n",
       "      <th>revenue_ad30d</th>\n",
       "      <th>revenue_in_app30d</th>\n",
       "      <th>payers30d</th>\n",
       "      <th>cpi</th>\n",
       "      <th>ctr</th>\n",
       "    </tr>\n",
       "  </thead>\n",
       "  <tbody>\n",
       "    <tr>\n",
       "      <th>23</th>\n",
       "      <td>24</td>\n",
       "      <td>north america</td>\n",
       "      <td>buyer_1</td>\n",
       "      <td>201923</td>\n",
       "      <td>16025</td>\n",
       "      <td>2836</td>\n",
       "      <td>1944</td>\n",
       "      <td>156.430002</td>\n",
       "      <td>92.957284</td>\n",
       "      <td>11.29</td>\n",
       "      <td>4</td>\n",
       "      <td>117.630269</td>\n",
       "      <td>12.4</td>\n",
       "      <td>5</td>\n",
       "      <td>129.256093</td>\n",
       "      <td>20.039999</td>\n",
       "      <td>5</td>\n",
       "      <td>0.055159</td>\n",
       "      <td>7.936193</td>\n",
       "    </tr>\n",
       "  </tbody>\n",
       "</table>\n",
       "</div>"
      ],
      "text/plain": [
       "    campaign_id            geo    buyer  impressions  clicks  installs  \\\n",
       "23           24  north america  buyer_1       201923   16025      2836   \n",
       "\n",
       "    registrations       spend  revenue_ad1d  revenue_in_app1d  payers1d  \\\n",
       "23           1944  156.430002     92.957284             11.29         4   \n",
       "\n",
       "    revenue_ad7d  revenue_in_app7d  payers7d  revenue_ad30d  \\\n",
       "23    117.630269              12.4         5     129.256093   \n",
       "\n",
       "    revenue_in_app30d  payers30d       cpi       ctr  \n",
       "23          20.039999          5  0.055159  7.936193  "
      ]
     },
     "execution_count": 21,
     "metadata": {},
     "output_type": "execute_result"
    }
   ],
   "source": [
    "# кампания с CTR выше 7%\n",
    "df.query('ctr > 7')"
   ]
  },
  {
   "cell_type": "code",
   "execution_count": 84,
   "id": "8214da2c",
   "metadata": {},
   "outputs": [
    {
     "data": {
      "image/png": "[encoded data removed]",
      "text/plain": [
       "<Figure size 1008x288 with 2 Axes>"
      ]
     },
     "metadata": {
      "needs_background": "light"
     },
     "output_type": "display_data"
    }
   ],
   "source": [
    "fig, axes = plt.subplots(nrows=1, ncols=2, figsize = (14, 4))\n",
    "boxplot_func(df, 'ctr', 'buyer', 0, '%')\n",
    "boxplot_func(df, 'ctr', 'geo', 1, '%')"
   ]
  },
  {
   "cell_type": "markdown",
   "id": "b9c9c832",
   "metadata": {},
   "source": [
    "**Значения до 8% как было видно ранее характерны для крупной кампании от медиабайера №1 в Северной Америке.** По медиане CTR меиабайера №1, №2, №3 имеют наиболее высокие показатели (3% и выше).\n",
    "\n",
    "**Наименьшая медиана CTR характерна для региона - Восточная Европа**, кампании по Австралии и Африке представлены в слишком малом количестве. **В кампаниях по Северной Америке есть 3 значения более 5%.**"
   ]
  },
  {
   "cell_type": "markdown",
   "id": "d4de431c",
   "metadata": {},
   "source": [
    "#### 2.2. Количество установок на клик (CTI)"
   ]
  },
  {
   "cell_type": "code",
   "execution_count": 23,
   "id": "6a71d8cb",
   "metadata": {},
   "outputs": [],
   "source": [
    "df['cti'] = df['installs']/df['clicks']*100"
   ]
  },
  {
   "cell_type": "code",
   "execution_count": 24,
   "id": "d241409b",
   "metadata": {},
   "outputs": [
    {
     "data": {
      "image/png": "[encoded data removed]",
      "text/plain": [
       "<Figure size 432x288 with 1 Axes>"
      ]
     },
     "metadata": {
      "needs_background": "light"
     },
     "output_type": "display_data"
    }
   ],
   "source": [
    "df['cti'].hist();"
   ]
  },
  {
   "cell_type": "markdown",
   "id": "d7036452",
   "metadata": {},
   "source": [
    "Диапазон значений CTI от 16 до 60%, что является высоким показателем."
   ]
  },
  {
   "cell_type": "code",
   "execution_count": 85,
   "id": "d21c4d5e",
   "metadata": {},
   "outputs": [
    {
     "data": {
      "image/png": "[encoded data removed]",
      "text/plain": [
       "<Figure size 1008x288 with 2 Axes>"
      ]
     },
     "metadata": {
      "needs_background": "light"
     },
     "output_type": "display_data"
    }
   ],
   "source": [
    "fig, axes = plt.subplots(nrows=1, ncols=2, figsize = (14, 4))\n",
    "boxplot_func(df, 'cti', 'buyer', 0, '%')\n",
    "boxplot_func(df, 'cti', 'geo', 1, '%')"
   ]
  },
  {
   "cell_type": "markdown",
   "id": "cce1c421",
   "metadata": {},
   "source": [
    "**Для медиабайреа №2 характерно самое высокое значение медианы**, при этом у его рекламных кампаний самый высокий разброс значений.\n",
    "\n",
    "**Высокие показатели медианы CTI (от 35% до 45%) характерны для регионов Северной Америки, Восточной Европы, СНГ, Северной Африки.** При этом диапазон значений для кампаний по Северной Америке и Восточной Европе колеблется от 18% до 60%, то есть присутствуют как менее, так и более успешные кампании."
   ]
  },
  {
   "cell_type": "markdown",
   "id": "4e434cfc",
   "metadata": {},
   "source": [
    "#### 2.3. Install-to-Register Conversion Rate"
   ]
  },
  {
   "cell_type": "code",
   "execution_count": 26,
   "id": "67c92159",
   "metadata": {},
   "outputs": [],
   "source": [
    "df['cr_reg'] = df['registrations']/df['installs']*100"
   ]
  },
  {
   "cell_type": "code",
   "execution_count": 27,
   "id": "cb265d9b",
   "metadata": {},
   "outputs": [
    {
     "data": {
      "image/png": "[encoded data removed]",
      "text/plain": [
       "<Figure size 432x288 with 1 Axes>"
      ]
     },
     "metadata": {
      "needs_background": "light"
     },
     "output_type": "display_data"
    }
   ],
   "source": [
    "df['cr_reg'].hist();"
   ]
  },
  {
   "cell_type": "markdown",
   "id": "0129e5ec",
   "metadata": {},
   "source": [
    "Распределение имеет вид нормального, есть выброс в более 100%, скорее всего регистраций с одной установки было больше. Диапазон значений от 100% до 120%. **Для большей части кампаний характерно значение от 50% до 70%.**"
   ]
  },
  {
   "cell_type": "code",
   "execution_count": 28,
   "id": "9cbf875f",
   "metadata": {},
   "outputs": [
    {
     "data": {
      "text/html": [
       "<div>\n",
       "<style scoped>\n",
       "    .dataframe tbody tr th:only-of-type {\n",
       "        vertical-align: middle;\n",
       "    }\n",
       "\n",
       "    .dataframe tbody tr th {\n",
       "        vertical-align: top;\n",
       "    }\n",
       "\n",
       "    .dataframe thead th {\n",
       "        text-align: right;\n",
       "    }\n",
       "</style>\n",
       "<table border=\"1\" class=\"dataframe\">\n",
       "  <thead>\n",
       "    <tr style=\"text-align: right;\">\n",
       "      <th></th>\n",
       "      <th>campaign_id</th>\n",
       "      <th>geo</th>\n",
       "      <th>buyer</th>\n",
       "      <th>impressions</th>\n",
       "      <th>clicks</th>\n",
       "      <th>installs</th>\n",
       "      <th>registrations</th>\n",
       "      <th>spend</th>\n",
       "      <th>revenue_ad1d</th>\n",
       "      <th>revenue_in_app1d</th>\n",
       "      <th>...</th>\n",
       "      <th>revenue_ad7d</th>\n",
       "      <th>revenue_in_app7d</th>\n",
       "      <th>payers7d</th>\n",
       "      <th>revenue_ad30d</th>\n",
       "      <th>revenue_in_app30d</th>\n",
       "      <th>payers30d</th>\n",
       "      <th>cpi</th>\n",
       "      <th>ctr</th>\n",
       "      <th>cti</th>\n",
       "      <th>cr_reg</th>\n",
       "    </tr>\n",
       "  </thead>\n",
       "  <tbody>\n",
       "    <tr>\n",
       "      <th>62</th>\n",
       "      <td>63</td>\n",
       "      <td>north america</td>\n",
       "      <td>buyer_4</td>\n",
       "      <td>8164</td>\n",
       "      <td>118</td>\n",
       "      <td>64</td>\n",
       "      <td>77</td>\n",
       "      <td>29.920000</td>\n",
       "      <td>34.161366</td>\n",
       "      <td>0.0</td>\n",
       "      <td>...</td>\n",
       "      <td>43.789066</td>\n",
       "      <td>0.0</td>\n",
       "      <td>0</td>\n",
       "      <td>67.051895</td>\n",
       "      <td>0.0</td>\n",
       "      <td>0</td>\n",
       "      <td>0.467500</td>\n",
       "      <td>1.445370</td>\n",
       "      <td>54.237288</td>\n",
       "      <td>120.312500</td>\n",
       "    </tr>\n",
       "    <tr>\n",
       "      <th>71</th>\n",
       "      <td>72</td>\n",
       "      <td>western europe</td>\n",
       "      <td>buyer_4</td>\n",
       "      <td>15080</td>\n",
       "      <td>152</td>\n",
       "      <td>61</td>\n",
       "      <td>71</td>\n",
       "      <td>24.110001</td>\n",
       "      <td>10.013834</td>\n",
       "      <td>0.0</td>\n",
       "      <td>...</td>\n",
       "      <td>14.020487</td>\n",
       "      <td>0.0</td>\n",
       "      <td>0</td>\n",
       "      <td>14.777514</td>\n",
       "      <td>0.0</td>\n",
       "      <td>0</td>\n",
       "      <td>0.395246</td>\n",
       "      <td>1.007958</td>\n",
       "      <td>40.131579</td>\n",
       "      <td>116.393443</td>\n",
       "    </tr>\n",
       "  </tbody>\n",
       "</table>\n",
       "<p>2 rows × 21 columns</p>\n",
       "</div>"
      ],
      "text/plain": [
       "    campaign_id             geo    buyer  impressions  clicks  installs  \\\n",
       "62           63   north america  buyer_4         8164     118        64   \n",
       "71           72  western europe  buyer_4        15080     152        61   \n",
       "\n",
       "    registrations      spend  revenue_ad1d  revenue_in_app1d  ...  \\\n",
       "62             77  29.920000     34.161366               0.0  ...   \n",
       "71             71  24.110001     10.013834               0.0  ...   \n",
       "\n",
       "    revenue_ad7d  revenue_in_app7d  payers7d  revenue_ad30d  \\\n",
       "62     43.789066               0.0         0      67.051895   \n",
       "71     14.020487               0.0         0      14.777514   \n",
       "\n",
       "    revenue_in_app30d  payers30d       cpi       ctr        cti      cr_reg  \n",
       "62                0.0          0  0.467500  1.445370  54.237288  120.312500  \n",
       "71                0.0          0  0.395246  1.007958  40.131579  116.393443  \n",
       "\n",
       "[2 rows x 21 columns]"
      ]
     },
     "execution_count": 28,
     "metadata": {},
     "output_type": "execute_result"
    }
   ],
   "source": [
    "# кампания с более 100% \n",
    "df.query('cr_reg > 100') "
   ]
  },
  {
   "cell_type": "markdown",
   "id": "72a8d3a3",
   "metadata": {},
   "source": [
    "Возможно, ошибка в данных или с одного устройства несколько раз выполняли регистрацию разным способом/под разные имена. Обе кампании от медиабайера №4."
   ]
  },
  {
   "cell_type": "code",
   "execution_count": 86,
   "id": "235f6f83",
   "metadata": {},
   "outputs": [
    {
     "data": {
      "image/png": "[encoded data removed]",
      "text/plain": [
       "<Figure size 1008x288 with 2 Axes>"
      ]
     },
     "metadata": {
      "needs_background": "light"
     },
     "output_type": "display_data"
    }
   ],
   "source": [
    "fig, axes = plt.subplots(nrows=1, ncols=2, figsize = (14, 4))\n",
    "boxplot_func(df, 'cr_reg', 'buyer', 0, '%')\n",
    "boxplot_func(df, 'cr_reg', 'geo', 1, '%')"
   ]
  },
  {
   "cell_type": "markdown",
   "id": "f4641c4b",
   "metadata": {},
   "source": [
    "**Медиана практически не различается по медиабайерам.** Есть кампании, для которых не было регистраций после установки. \n",
    "\n",
    "Высокие значения характерны для районов, где мало данных. Например, в кампании в Австралии из 10 установок было 9 регистраций, соответственно значение медианы выше всего на графике. "
   ]
  },
  {
   "cell_type": "markdown",
   "id": "2247eca2",
   "metadata": {},
   "source": [
    "#### 2.4. IPM = кол-во установок / 1000 показов"
   ]
  },
  {
   "cell_type": "code",
   "execution_count": 30,
   "id": "00cbde1f",
   "metadata": {},
   "outputs": [],
   "source": [
    "df['ipm'] = df['installs']/(df['impressions']/1000)"
   ]
  },
  {
   "cell_type": "code",
   "execution_count": 31,
   "id": "a462a751",
   "metadata": {},
   "outputs": [
    {
     "data": {
      "image/png": "[encoded data removed]",
      "text/plain": [
       "<Figure size 432x288 with 1 Axes>"
      ]
     },
     "metadata": {
      "needs_background": "light"
     },
     "output_type": "display_data"
    }
   ],
   "source": [
    "df['ipm'].hist();"
   ]
  },
  {
   "cell_type": "markdown",
   "id": "962dfd77",
   "metadata": {},
   "source": [
    "Диапазон значений от 3 до 20 установок на 1000 показов. "
   ]
  },
  {
   "cell_type": "code",
   "execution_count": 87,
   "id": "d574b887",
   "metadata": {},
   "outputs": [
    {
     "data": {
      "image/png": "[encoded data removed]",
      "text/plain": [
       "<Figure size 1008x288 with 2 Axes>"
      ]
     },
     "metadata": {
      "needs_background": "light"
     },
     "output_type": "display_data"
    }
   ],
   "source": [
    "fig, axes = plt.subplots(nrows=1, ncols=2, figsize = (14, 4))\n",
    "boxplot_func(df, 'ipm', 'buyer', 0, '')\n",
    "boxplot_func(df, 'ipm', 'geo', 1, '')"
   ]
  },
  {
   "cell_type": "markdown",
   "id": "9e45a210",
   "metadata": {},
   "source": [
    "**Наиболее высокое значение медианы IPM у медиабайера №2.**\n",
    "\n",
    "По регионам выделяется Северная Америка, при этом разброс значений от 5 до 20 установок на 1000 показов."
   ]
  },
  {
   "cell_type": "markdown",
   "id": "fb4b31ba",
   "metadata": {},
   "source": [
    "#### 2.5. Conversion Rate \n",
    "\n",
    "Так как приложение может получать доход из двух источников: с рекламы и с покупок внутри приложения, то целевым действием можно считать регистрацию, поэтому рассчитаем общую конверсию, **как количество регистраций/количество показов.**"
   ]
  },
  {
   "cell_type": "code",
   "execution_count": 35,
   "id": "0af26da2",
   "metadata": {},
   "outputs": [],
   "source": [
    "df['cr'] = df['registrations']/df['impressions'] * 100"
   ]
  },
  {
   "cell_type": "code",
   "execution_count": 36,
   "id": "f056091d",
   "metadata": {},
   "outputs": [
    {
     "data": {
      "image/png": "[encoded data removed]",
      "text/plain": [
       "<Figure size 432x288 with 1 Axes>"
      ]
     },
     "metadata": {
      "needs_background": "light"
     },
     "output_type": "display_data"
    }
   ],
   "source": [
    "df['cr'].hist();"
   ]
  },
  {
   "cell_type": "code",
   "execution_count": 93,
   "id": "26455de0",
   "metadata": {},
   "outputs": [
    {
     "data": {
      "image/png": "[encoded data removed]",
      "text/plain": [
       "<Figure size 1008x288 with 2 Axes>"
      ]
     },
     "metadata": {
      "needs_background": "light"
     },
     "output_type": "display_data"
    }
   ],
   "source": [
    "fig, axes = plt.subplots(nrows=1, ncols=2, figsize = (14, 4))\n",
    "boxplot_func(df, 'cr', 'buyer', 0, '%')\n",
    "boxplot_func(df, 'cr', 'geo', 1, '%')"
   ]
  },
  {
   "cell_type": "markdown",
   "id": "38c89c61",
   "metadata": {},
   "source": [
    "**Медиана конверсии из показов в регистрации примерно на одном уровне для регионов Латинской Америки, Африки и Северной Америки**. Наиболее низкое значение медианы в СНГ."
   ]
  },
  {
   "cell_type": "markdown",
   "id": "5ad30bd4",
   "metadata": {},
   "source": [
    "**Гипотезы**: \n",
    "    \n",
    "    1. Ожидается, что чем выше CTR --> тем выше значение CTI --> выше значение CR_reg (более заинтересованная аудитория) \n",
    "    \n",
    "    2. Чем выше CPI, тем выше показатели для конверсий."
   ]
  },
  {
   "cell_type": "code",
   "execution_count": 38,
   "id": "c389d312",
   "metadata": {},
   "outputs": [
    {
     "data": {
      "image/png": "[encoded data removed]",
      "text/plain": [
       "<Figure size 504x360 with 2 Axes>"
      ]
     },
     "metadata": {
      "needs_background": "light"
     },
     "output_type": "display_data"
    }
   ],
   "source": [
    "# корреляционная матрица\n",
    "fig, ax = plt.subplots(figsize=(7,5))  \n",
    "sns.heatmap(df.query('cpi < 2')\\\n",
    "            [['geo', 'buyer', 'impressions', 'cpi', 'ctr', 'cti', 'ipm', 'cr_reg', 'cr']].corr(), annot = True, ax=ax);"
   ]
  },
  {
   "cell_type": "markdown",
   "id": "9f3c4247",
   "metadata": {},
   "source": [
    "**Линейной зависимости между CPI и показателями конверсии нет.**\n",
    "\n",
    "Между значением CTR и CTI слабая отрицательная связь, между CTI и CR_reg связь отсутствует."
   ]
  },
  {
   "cell_type": "code",
   "execution_count": 98,
   "id": "40a48e26",
   "metadata": {},
   "outputs": [
    {
     "data": {
      "text/html": [
       "<style type=\"text/css\">\n",
       "#T_87bb9_row0_col0 {\n",
       "  background-color: #8fb4d6;\n",
       "  color: #000000;\n",
       "}\n",
       "#T_87bb9_row0_col1, #T_87bb9_row0_col2, #T_87bb9_row3_col4, #T_87bb9_row4_col3, #T_87bb9_row6_col5, #T_87bb9_row14_col0 {\n",
       "  background-color: #fff7fb;\n",
       "  color: #000000;\n",
       "}\n",
       "#T_87bb9_row0_col3, #T_87bb9_row0_col5, #T_87bb9_row1_col0, #T_87bb9_row5_col0, #T_87bb9_row7_col0, #T_87bb9_row8_col2, #T_87bb9_row9_col4, #T_87bb9_row11_col1 {\n",
       "  background-color: #023858;\n",
       "  color: #f1f1f1;\n",
       "}\n",
       "#T_87bb9_row0_col4 {\n",
       "  background-color: #a7bddb;\n",
       "  color: #000000;\n",
       "}\n",
       "#T_87bb9_row1_col1, #T_87bb9_row8_col3 {\n",
       "  background-color: #9ebad9;\n",
       "  color: #000000;\n",
       "}\n",
       "#T_87bb9_row1_col2, #T_87bb9_row4_col0, #T_87bb9_row13_col4 {\n",
       "  background-color: #4a98c5;\n",
       "  color: #f1f1f1;\n",
       "}\n",
       "#T_87bb9_row1_col3 {\n",
       "  background-color: #569dc8;\n",
       "  color: #f1f1f1;\n",
       "}\n",
       "#T_87bb9_row1_col4, #T_87bb9_row11_col4 {\n",
       "  background-color: #04629a;\n",
       "  color: #f1f1f1;\n",
       "}\n",
       "#T_87bb9_row1_col5, #T_87bb9_row14_col2 {\n",
       "  background-color: #f6eff7;\n",
       "  color: #000000;\n",
       "}\n",
       "#T_87bb9_row2_col0 {\n",
       "  background-color: #b9c6e0;\n",
       "  color: #000000;\n",
       "}\n",
       "#T_87bb9_row2_col1 {\n",
       "  background-color: #056faf;\n",
       "  color: #f1f1f1;\n",
       "}\n",
       "#T_87bb9_row2_col2 {\n",
       "  background-color: #88b1d4;\n",
       "  color: #000000;\n",
       "}\n",
       "#T_87bb9_row2_col3, #T_87bb9_row15_col4 {\n",
       "  background-color: #e0dded;\n",
       "  color: #000000;\n",
       "}\n",
       "#T_87bb9_row2_col4 {\n",
       "  background-color: #a4bcda;\n",
       "  color: #000000;\n",
       "}\n",
       "#T_87bb9_row2_col5 {\n",
       "  background-color: #f5eef6;\n",
       "  color: #000000;\n",
       "}\n",
       "#T_87bb9_row3_col0 {\n",
       "  background-color: #dfddec;\n",
       "  color: #000000;\n",
       "}\n",
       "#T_87bb9_row3_col1 {\n",
       "  background-color: #ced0e6;\n",
       "  color: #000000;\n",
       "}\n",
       "#T_87bb9_row3_col2 {\n",
       "  background-color: #f9f2f8;\n",
       "  color: #000000;\n",
       "}\n",
       "#T_87bb9_row3_col3 {\n",
       "  background-color: #eae6f1;\n",
       "  color: #000000;\n",
       "}\n",
       "#T_87bb9_row3_col5, #T_87bb9_row14_col5 {\n",
       "  background-color: #eee8f3;\n",
       "  color: #000000;\n",
       "}\n",
       "#T_87bb9_row4_col1, #T_87bb9_row9_col1 {\n",
       "  background-color: #67a4cc;\n",
       "  color: #f1f1f1;\n",
       "}\n",
       "#T_87bb9_row4_col2 {\n",
       "  background-color: #89b1d4;\n",
       "  color: #000000;\n",
       "}\n",
       "#T_87bb9_row4_col4 {\n",
       "  background-color: #f8f1f8;\n",
       "  color: #000000;\n",
       "}\n",
       "#T_87bb9_row4_col5 {\n",
       "  background-color: #fbf4f9;\n",
       "  color: #000000;\n",
       "}\n",
       "#T_87bb9_row5_col1 {\n",
       "  background-color: #a2bcda;\n",
       "  color: #000000;\n",
       "}\n",
       "#T_87bb9_row5_col2 {\n",
       "  background-color: #4496c3;\n",
       "  color: #f1f1f1;\n",
       "}\n",
       "#T_87bb9_row5_col3 {\n",
       "  background-color: #5a9ec9;\n",
       "  color: #f1f1f1;\n",
       "}\n",
       "#T_87bb9_row5_col4 {\n",
       "  background-color: #046097;\n",
       "  color: #f1f1f1;\n",
       "}\n",
       "#T_87bb9_row5_col5 {\n",
       "  background-color: #fbf3f9;\n",
       "  color: #000000;\n",
       "}\n",
       "#T_87bb9_row6_col0 {\n",
       "  background-color: #2484ba;\n",
       "  color: #f1f1f1;\n",
       "}\n",
       "#T_87bb9_row6_col1 {\n",
       "  background-color: #529bc7;\n",
       "  color: #f1f1f1;\n",
       "}\n",
       "#T_87bb9_row6_col2 {\n",
       "  background-color: #79abd0;\n",
       "  color: #f1f1f1;\n",
       "}\n",
       "#T_87bb9_row6_col3 {\n",
       "  background-color: #328dbf;\n",
       "  color: #f1f1f1;\n",
       "}\n",
       "#T_87bb9_row6_col4 {\n",
       "  background-color: #0567a2;\n",
       "  color: #f1f1f1;\n",
       "}\n",
       "#T_87bb9_row7_col1, #T_87bb9_row11_col3 {\n",
       "  background-color: #91b5d6;\n",
       "  color: #000000;\n",
       "}\n",
       "#T_87bb9_row7_col2 {\n",
       "  background-color: #5c9fc9;\n",
       "  color: #f1f1f1;\n",
       "}\n",
       "#T_87bb9_row7_col3 {\n",
       "  background-color: #96b6d7;\n",
       "  color: #000000;\n",
       "}\n",
       "#T_87bb9_row7_col4 {\n",
       "  background-color: #3d93c2;\n",
       "  color: #f1f1f1;\n",
       "}\n",
       "#T_87bb9_row7_col5 {\n",
       "  background-color: #eee9f3;\n",
       "  color: #000000;\n",
       "}\n",
       "#T_87bb9_row8_col0 {\n",
       "  background-color: #034871;\n",
       "  color: #f1f1f1;\n",
       "}\n",
       "#T_87bb9_row8_col1, #T_87bb9_row10_col4 {\n",
       "  background-color: #034d79;\n",
       "  color: #f1f1f1;\n",
       "}\n",
       "#T_87bb9_row8_col4 {\n",
       "  background-color: #023c5f;\n",
       "  color: #f1f1f1;\n",
       "}\n",
       "#T_87bb9_row8_col5 {\n",
       "  background-color: #e4e1ef;\n",
       "  color: #000000;\n",
       "}\n",
       "#T_87bb9_row9_col0 {\n",
       "  background-color: #045280;\n",
       "  color: #f1f1f1;\n",
       "}\n",
       "#T_87bb9_row9_col2 {\n",
       "  background-color: #348ebf;\n",
       "  color: #f1f1f1;\n",
       "}\n",
       "#T_87bb9_row9_col3 {\n",
       "  background-color: #2a88bc;\n",
       "  color: #f1f1f1;\n",
       "}\n",
       "#T_87bb9_row9_col5 {\n",
       "  background-color: #d2d3e7;\n",
       "  color: #000000;\n",
       "}\n",
       "#T_87bb9_row10_col0 {\n",
       "  background-color: #1c7fb8;\n",
       "  color: #f1f1f1;\n",
       "}\n",
       "#T_87bb9_row10_col1 {\n",
       "  background-color: #0d75b3;\n",
       "  color: #f1f1f1;\n",
       "}\n",
       "#T_87bb9_row10_col2 {\n",
       "  background-color: #3991c1;\n",
       "  color: #f1f1f1;\n",
       "}\n",
       "#T_87bb9_row10_col3 {\n",
       "  background-color: #2182b9;\n",
       "  color: #f1f1f1;\n",
       "}\n",
       "#T_87bb9_row10_col5 {\n",
       "  background-color: #d8d7e9;\n",
       "  color: #000000;\n",
       "}\n",
       "#T_87bb9_row11_col0 {\n",
       "  background-color: #589ec8;\n",
       "  color: #f1f1f1;\n",
       "}\n",
       "#T_87bb9_row11_col2 {\n",
       "  background-color: #056caa;\n",
       "  color: #f1f1f1;\n",
       "}\n",
       "#T_87bb9_row11_col5 {\n",
       "  background-color: #bbc7e0;\n",
       "  color: #000000;\n",
       "}\n",
       "#T_87bb9_row12_col0 {\n",
       "  background-color: #187cb6;\n",
       "  color: #f1f1f1;\n",
       "}\n",
       "#T_87bb9_row12_col1 {\n",
       "  background-color: #bdc8e1;\n",
       "  color: #000000;\n",
       "}\n",
       "#T_87bb9_row12_col2, #T_87bb9_row15_col3 {\n",
       "  background-color: #b1c2de;\n",
       "  color: #000000;\n",
       "}\n",
       "#T_87bb9_row12_col3 {\n",
       "  background-color: #4697c4;\n",
       "  color: #f1f1f1;\n",
       "}\n",
       "#T_87bb9_row12_col4 {\n",
       "  background-color: #4e9ac6;\n",
       "  color: #f1f1f1;\n",
       "}\n",
       "#T_87bb9_row12_col5 {\n",
       "  background-color: #fdf5fa;\n",
       "  color: #000000;\n",
       "}\n",
       "#T_87bb9_row13_col0 {\n",
       "  background-color: #6da6cd;\n",
       "  color: #f1f1f1;\n",
       "}\n",
       "#T_87bb9_row13_col1 {\n",
       "  background-color: #0a73b2;\n",
       "  color: #f1f1f1;\n",
       "}\n",
       "#T_87bb9_row13_col2 {\n",
       "  background-color: #7eadd1;\n",
       "  color: #f1f1f1;\n",
       "}\n",
       "#T_87bb9_row13_col3 {\n",
       "  background-color: #78abd0;\n",
       "  color: #f1f1f1;\n",
       "}\n",
       "#T_87bb9_row13_col5 {\n",
       "  background-color: #e6e2ef;\n",
       "  color: #000000;\n",
       "}\n",
       "#T_87bb9_row14_col1 {\n",
       "  background-color: #5ea0ca;\n",
       "  color: #f1f1f1;\n",
       "}\n",
       "#T_87bb9_row14_col3 {\n",
       "  background-color: #056dac;\n",
       "  color: #f1f1f1;\n",
       "}\n",
       "#T_87bb9_row14_col4 {\n",
       "  background-color: #c6cce3;\n",
       "  color: #000000;\n",
       "}\n",
       "#T_87bb9_row15_col0 {\n",
       "  background-color: #fef6fb;\n",
       "  color: #000000;\n",
       "}\n",
       "#T_87bb9_row15_col1 {\n",
       "  background-color: #2987bc;\n",
       "  color: #f1f1f1;\n",
       "}\n",
       "#T_87bb9_row15_col2 {\n",
       "  background-color: #ece7f2;\n",
       "  color: #000000;\n",
       "}\n",
       "#T_87bb9_row15_col5 {\n",
       "  background-color: #e7e3f0;\n",
       "  color: #000000;\n",
       "}\n",
       "</style>\n",
       "<table id=\"T_87bb9\">\n",
       "  <thead>\n",
       "    <tr>\n",
       "      <th class=\"blank\" >&nbsp;</th>\n",
       "      <th class=\"blank level0\" >&nbsp;</th>\n",
       "      <th id=\"T_87bb9_level0_col0\" class=\"col_heading level0 col0\" >ctr</th>\n",
       "      <th id=\"T_87bb9_level0_col1\" class=\"col_heading level0 col1\" >cti</th>\n",
       "      <th id=\"T_87bb9_level0_col2\" class=\"col_heading level0 col2\" >ipm</th>\n",
       "      <th id=\"T_87bb9_level0_col3\" class=\"col_heading level0 col3\" >cr_reg</th>\n",
       "      <th id=\"T_87bb9_level0_col4\" class=\"col_heading level0 col4\" >cr</th>\n",
       "      <th id=\"T_87bb9_level0_col5\" class=\"col_heading level0 col5\" >cpi</th>\n",
       "    </tr>\n",
       "    <tr>\n",
       "      <th class=\"index_name level0\" >geo</th>\n",
       "      <th class=\"index_name level1\" >buyer</th>\n",
       "      <th class=\"blank col0\" >&nbsp;</th>\n",
       "      <th class=\"blank col1\" >&nbsp;</th>\n",
       "      <th class=\"blank col2\" >&nbsp;</th>\n",
       "      <th class=\"blank col3\" >&nbsp;</th>\n",
       "      <th class=\"blank col4\" >&nbsp;</th>\n",
       "      <th class=\"blank col5\" >&nbsp;</th>\n",
       "    </tr>\n",
       "  </thead>\n",
       "  <tbody>\n",
       "    <tr>\n",
       "      <th id=\"T_87bb9_level0_row0\" class=\"row_heading level0 row0\" >australia oceania</th>\n",
       "      <th id=\"T_87bb9_level1_row0\" class=\"row_heading level1 row0\" >buyer_5</th>\n",
       "      <td id=\"T_87bb9_row0_col0\" class=\"data row0 col0\" >2.425629</td>\n",
       "      <td id=\"T_87bb9_row0_col1\" class=\"data row0 col1\" >18.867925</td>\n",
       "      <td id=\"T_87bb9_row0_col2\" class=\"data row0 col2\" >4.576659</td>\n",
       "      <td id=\"T_87bb9_row0_col3\" class=\"data row0 col3\" >90.000000</td>\n",
       "      <td id=\"T_87bb9_row0_col4\" class=\"data row0 col4\" >0.411899</td>\n",
       "      <td id=\"T_87bb9_row0_col5\" class=\"data row0 col5\" >2.155000</td>\n",
       "    </tr>\n",
       "    <tr>\n",
       "      <th id=\"T_87bb9_level0_row1\" class=\"row_heading level0 row1\" rowspan=\"4\">cis</th>\n",
       "      <th id=\"T_87bb9_level1_row1\" class=\"row_heading level1 row1\" >buyer_1</th>\n",
       "      <td id=\"T_87bb9_row1_col0\" class=\"data row1 col0\" >3.661156</td>\n",
       "      <td id=\"T_87bb9_row1_col1\" class=\"data row1 col1\" >31.307227</td>\n",
       "      <td id=\"T_87bb9_row1_col2\" class=\"data row1 col2\" >11.342925</td>\n",
       "      <td id=\"T_87bb9_row1_col3\" class=\"data row1 col3\" >60.259360</td>\n",
       "      <td id=\"T_87bb9_row1_col4\" class=\"data row1 col4\" >0.682677</td>\n",
       "      <td id=\"T_87bb9_row1_col5\" class=\"data row1 col5\" >0.155905</td>\n",
       "    </tr>\n",
       "    <tr>\n",
       "      <th id=\"T_87bb9_level1_row2\" class=\"row_heading level1 row2\" >buyer_2</th>\n",
       "      <td id=\"T_87bb9_row2_col0\" class=\"data row2 col0\" >2.176245</td>\n",
       "      <td id=\"T_87bb9_row2_col1\" class=\"data row2 col1\" >42.518085</td>\n",
       "      <td id=\"T_87bb9_row2_col2\" class=\"data row2 col2\" >9.811844</td>\n",
       "      <td id=\"T_87bb9_row2_col3\" class=\"data row2 col3\" >34.555932</td>\n",
       "      <td id=\"T_87bb9_row2_col4\" class=\"data row2 col4\" >0.415114</td>\n",
       "      <td id=\"T_87bb9_row2_col5\" class=\"data row2 col5\" >0.175130</td>\n",
       "    </tr>\n",
       "    <tr>\n",
       "      <th id=\"T_87bb9_level1_row3\" class=\"row_heading level1 row3\" >buyer_4</th>\n",
       "      <td id=\"T_87bb9_row3_col0\" class=\"data row3 col0\" >1.883653</td>\n",
       "      <td id=\"T_87bb9_row3_col1\" class=\"data row3 col1\" >26.921355</td>\n",
       "      <td id=\"T_87bb9_row3_col2\" class=\"data row3 col2\" >5.032596</td>\n",
       "      <td id=\"T_87bb9_row3_col3\" class=\"data row3 col3\" >31.472583</td>\n",
       "      <td id=\"T_87bb9_row3_col4\" class=\"data row3 col4\" >0.187444</td>\n",
       "      <td id=\"T_87bb9_row3_col5\" class=\"data row3 col5\" >0.269481</td>\n",
       "    </tr>\n",
       "    <tr>\n",
       "      <th id=\"T_87bb9_level1_row4\" class=\"row_heading level1 row4\" >buyer_5</th>\n",
       "      <td id=\"T_87bb9_row4_col0\" class=\"data row4 col0\" >2.757563</td>\n",
       "      <td id=\"T_87bb9_row4_col1\" class=\"data row4 col1\" >35.330480</td>\n",
       "      <td id=\"T_87bb9_row4_col2\" class=\"data row4 col2\" >9.742601</td>\n",
       "      <td id=\"T_87bb9_row4_col3\" class=\"data row4 col3\" >22.341857</td>\n",
       "      <td id=\"T_87bb9_row4_col4\" class=\"data row4 col4\" >0.217668</td>\n",
       "      <td id=\"T_87bb9_row4_col5\" class=\"data row4 col5\" >0.083122</td>\n",
       "    </tr>\n",
       "    <tr>\n",
       "      <th id=\"T_87bb9_level0_row5\" class=\"row_heading level0 row5\" >latin america</th>\n",
       "      <th id=\"T_87bb9_level1_row5\" class=\"row_heading level1 row5\" >buyer_1</th>\n",
       "      <td id=\"T_87bb9_row5_col0\" class=\"data row5 col0\" >3.661848</td>\n",
       "      <td id=\"T_87bb9_row5_col1\" class=\"data row5 col1\" >30.964570</td>\n",
       "      <td id=\"T_87bb9_row5_col2\" class=\"data row5 col2\" >11.473925</td>\n",
       "      <td id=\"T_87bb9_row5_col3\" class=\"data row5 col3\" >59.850892</td>\n",
       "      <td id=\"T_87bb9_row5_col4\" class=\"data row5 col4\" >0.689990</td>\n",
       "      <td id=\"T_87bb9_row5_col5\" class=\"data row5 col5\" >0.092223</td>\n",
       "    </tr>\n",
       "    <tr>\n",
       "      <th id=\"T_87bb9_level0_row6\" class=\"row_heading level0 row6\" >north africa</th>\n",
       "      <th id=\"T_87bb9_level1_row6\" class=\"row_heading level1 row6\" >buyer_5</th>\n",
       "      <td id=\"T_87bb9_row6_col0\" class=\"data row6 col0\" >2.943438</td>\n",
       "      <td id=\"T_87bb9_row6_col1\" class=\"data row6 col1\" >36.668606</td>\n",
       "      <td id=\"T_87bb9_row6_col2\" class=\"data row6 col2\" >10.238602</td>\n",
       "      <td id=\"T_87bb9_row6_col3\" class=\"data row6 col3\" >65.274363</td>\n",
       "      <td id=\"T_87bb9_row6_col4\" class=\"data row6 col4\" >0.667345</td>\n",
       "      <td id=\"T_87bb9_row6_col5\" class=\"data row6 col5\" >0.026336</td>\n",
       "    </tr>\n",
       "    <tr>\n",
       "      <th id=\"T_87bb9_level0_row7\" class=\"row_heading level0 row7\" rowspan=\"5\">north america</th>\n",
       "      <th id=\"T_87bb9_level1_row7\" class=\"row_heading level1 row7\" >buyer_1</th>\n",
       "      <td id=\"T_87bb9_row7_col0\" class=\"data row7 col0\" >3.661152</td>\n",
       "      <td id=\"T_87bb9_row7_col1\" class=\"data row7 col1\" >32.306309</td>\n",
       "      <td id=\"T_87bb9_row7_col2\" class=\"data row7 col2\" >10.958176</td>\n",
       "      <td id=\"T_87bb9_row7_col3\" class=\"data row7 col3\" >50.495056</td>\n",
       "      <td id=\"T_87bb9_row7_col4\" class=\"data row7 col4\" >0.553975</td>\n",
       "      <td id=\"T_87bb9_row7_col5\" class=\"data row7 col5\" >0.264722</td>\n",
       "    </tr>\n",
       "    <tr>\n",
       "      <th id=\"T_87bb9_level1_row8\" class=\"row_heading level1 row8\" >buyer_2</th>\n",
       "      <td id=\"T_87bb9_row8_col0\" class=\"data row8 col0\" >3.529344</td>\n",
       "      <td id=\"T_87bb9_row8_col1\" class=\"data row8 col1\" >47.821635</td>\n",
       "      <td id=\"T_87bb9_row8_col2\" class=\"data row8 col2\" >16.175288</td>\n",
       "      <td id=\"T_87bb9_row8_col3\" class=\"data row8 col3\" >49.198610</td>\n",
       "      <td id=\"T_87bb9_row8_col4\" class=\"data row8 col4\" >0.777270</td>\n",
       "      <td id=\"T_87bb9_row8_col5\" class=\"data row8 col5\" >0.368052</td>\n",
       "    </tr>\n",
       "    <tr>\n",
       "      <th id=\"T_87bb9_level1_row9\" class=\"row_heading level1 row9\" >buyer_3</th>\n",
       "      <td id=\"T_87bb9_row9_col0\" class=\"data row9 col0\" >3.450052</td>\n",
       "      <td id=\"T_87bb9_row9_col1\" class=\"data row9 col1\" >35.371141</td>\n",
       "      <td id=\"T_87bb9_row9_col2\" class=\"data row9 col2\" >11.897345</td>\n",
       "      <td id=\"T_87bb9_row9_col3\" class=\"data row9 col3\" >66.721498</td>\n",
       "      <td id=\"T_87bb9_row9_col4\" class=\"data row9 col4\" >0.786874</td>\n",
       "      <td id=\"T_87bb9_row9_col5\" class=\"data row9 col5\" >0.537483</td>\n",
       "    </tr>\n",
       "    <tr>\n",
       "      <th id=\"T_87bb9_level1_row10\" class=\"row_heading level1 row10\" >buyer_4</th>\n",
       "      <td id=\"T_87bb9_row10_col0\" class=\"data row10 col0\" >2.989283</td>\n",
       "      <td id=\"T_87bb9_row10_col1\" class=\"data row10 col1\" >41.701868</td>\n",
       "      <td id=\"T_87bb9_row10_col2\" class=\"data row10 col2\" >11.769555</td>\n",
       "      <td id=\"T_87bb9_row10_col3\" class=\"data row10 col3\" >68.154844</td>\n",
       "      <td id=\"T_87bb9_row10_col4\" class=\"data row10 col4\" >0.739690</td>\n",
       "      <td id=\"T_87bb9_row10_col5\" class=\"data row10 col5\" >0.483786</td>\n",
       "    </tr>\n",
       "    <tr>\n",
       "      <th id=\"T_87bb9_level1_row11\" class=\"row_heading level1 row11\" >buyer_5</th>\n",
       "      <td id=\"T_87bb9_row11_col0\" class=\"data row11 col0\" >2.695862</td>\n",
       "      <td id=\"T_87bb9_row11_col1\" class=\"data row11 col1\" >50.289210</td>\n",
       "      <td id=\"T_87bb9_row11_col2\" class=\"data row11 col2\" >13.531250</td>\n",
       "      <td id=\"T_87bb9_row11_col3\" class=\"data row11 col3\" >51.276408</td>\n",
       "      <td id=\"T_87bb9_row11_col4\" class=\"data row11 col4\" >0.682792</td>\n",
       "      <td id=\"T_87bb9_row11_col5\" class=\"data row11 col5\" >0.691834</td>\n",
       "    </tr>\n",
       "    <tr>\n",
       "      <th id=\"T_87bb9_level0_row12\" class=\"row_heading level0 row12\" >tropical africa</th>\n",
       "      <th id=\"T_87bb9_level1_row12\" class=\"row_heading level1 row12\" >buyer_1</th>\n",
       "      <td id=\"T_87bb9_row12_col0\" class=\"data row12 col0\" >3.008999</td>\n",
       "      <td id=\"T_87bb9_row12_col1\" class=\"data row12 col1\" >28.446069</td>\n",
       "      <td id=\"T_87bb9_row12_col2\" class=\"data row12 col2\" >8.559421</td>\n",
       "      <td id=\"T_87bb9_row12_col3\" class=\"data row12 col3\" >62.339332</td>\n",
       "      <td id=\"T_87bb9_row12_col4\" class=\"data row12 col4\" >0.533589</td>\n",
       "      <td id=\"T_87bb9_row12_col5\" class=\"data row12 col5\" >0.053355</td>\n",
       "    </tr>\n",
       "    <tr>\n",
       "      <th id=\"T_87bb9_level0_row13\" class=\"row_heading level0 row13\" rowspan=\"3\">western europe</th>\n",
       "      <th id=\"T_87bb9_level1_row13\" class=\"row_heading level1 row13\" >buyer_2</th>\n",
       "      <td id=\"T_87bb9_row13_col0\" class=\"data row13 col0\" >2.601121</td>\n",
       "      <td id=\"T_87bb9_row13_col1\" class=\"data row13 col1\" >41.967580</td>\n",
       "      <td id=\"T_87bb9_row13_col2\" class=\"data row13 col2\" >10.066770</td>\n",
       "      <td id=\"T_87bb9_row13_col3\" class=\"data row13 col3\" >55.452907</td>\n",
       "      <td id=\"T_87bb9_row13_col4\" class=\"data row13 col4\" >0.536689</td>\n",
       "      <td id=\"T_87bb9_row13_col5\" class=\"data row13 col5\" >0.354229</td>\n",
       "    </tr>\n",
       "    <tr>\n",
       "      <th id=\"T_87bb9_level1_row14\" class=\"row_heading level1 row14\" >buyer_4</th>\n",
       "      <td id=\"T_87bb9_row14_col0\" class=\"data row14 col0\" >1.482559</td>\n",
       "      <td id=\"T_87bb9_row14_col1\" class=\"data row14 col1\" >35.960865</td>\n",
       "      <td id=\"T_87bb9_row14_col2\" class=\"data row14 col2\" >5.296280</td>\n",
       "      <td id=\"T_87bb9_row14_col3\" class=\"data row14 col3\" >74.078685</td>\n",
       "      <td id=\"T_87bb9_row14_col4\" class=\"data row14 col4\" >0.353970</td>\n",
       "      <td id=\"T_87bb9_row14_col5\" class=\"data row14 col5\" >0.275598</td>\n",
       "    </tr>\n",
       "    <tr>\n",
       "      <th id=\"T_87bb9_level1_row15\" class=\"row_heading level1 row15\" >buyer_5</th>\n",
       "      <td id=\"T_87bb9_row15_col0\" class=\"data row15 col0\" >1.494880</td>\n",
       "      <td id=\"T_87bb9_row15_col1\" class=\"data row15 col1\" >39.548872</td>\n",
       "      <td id=\"T_87bb9_row15_col2\" class=\"data row15 col2\" >6.055757</td>\n",
       "      <td id=\"T_87bb9_row15_col3\" class=\"data row15 col3\" >45.575586</td>\n",
       "      <td id=\"T_87bb9_row15_col4\" class=\"data row15 col4\" >0.295956</td>\n",
       "      <td id=\"T_87bb9_row15_col5\" class=\"data row15 col5\" >0.349414</td>\n",
       "    </tr>\n",
       "  </tbody>\n",
       "</table>\n"
      ],
      "text/plain": [
       "<pandas.io.formats.style.Styler at 0x23ad2b52c40>"
      ]
     },
     "execution_count": 98,
     "metadata": {},
     "output_type": "execute_result"
    }
   ],
   "source": [
    "# средние показатели по регионам и медиабайерам\n",
    "df.groupby(['geo', 'buyer'])[['ctr', 'cti', 'ipm', 'cr_reg', 'cr', 'cpi']].mean().style.background_gradient()"
   ]
  },
  {
   "cell_type": "markdown",
   "id": "87c28fb7",
   "metadata": {},
   "source": [
    "Средние метрики конверсий различаются по медиабайерам и региона, нет одного, у которого бы были лучше все метрики. \n",
    "\n",
    "**По общей конверсии из показов в регистрации** (метрика, которая наиболее важна для дальнейшей выручки с пользователей) лидирует медиабайер №3 и медиабайеры №2 (при это CPI в среднем меньше) и №4 для кампаний по Северной Америке. "
   ]
  },
  {
   "cell_type": "markdown",
   "id": "fa1eab2c",
   "metadata": {},
   "source": [
    "**Выводы:**\n",
    "\n",
    "1) **Для большей части кампаний значения CTR в диапазоне от 2.5 до 3.7%.** По медиане CTR меиабайера №1, №2, №3 имеют наиболее высокие показатели (3% и выше). Наименьшая медиана CTR характерна для региона - Восточная Европа.\n",
    "\n",
    "2) Диапазон значений CTI от 16 до 60%, что является высоким показателем. **Высокие показатели медианы CTI (от 35% до 45%) характерны для регионов Северной Америки, Восточной Европы, СНГ, Северной Африки.** При этом диапазон значений для кампаний по Северной Америке и Восточной Европе колеблятся от 18% до 60%, то есть присутствуют как менее, так и более успешные кампании.\n",
    "\n",
    "3) IPM находится в диапазоне от 3 до 20 установок на 1000 показов. **Наиболее высокое значение медианы IPM у медиабайера №2.**\n",
    "\n",
    "4) Медиана конверсии из показов в регистрации примерно на одном уровне для регионов Латинской Америки, Африки и Северной Америки. Наиболее низкое значение медианы CR в СНГ. По общей конверсии из показов в регистрации (метрика, которая наиболее важна для дальнейшей выручки с пользователей) **лидирует медиабайер №3 и медиабайеры №2 (при это CPI в среднем меньше) и №4 для кампаний по Северной Америке.**\n",
    "\n",
    "5) Не было выявлено зависимости между CPI и метриками конверсии."
   ]
  },
  {
   "cell_type": "markdown",
   "id": "d66d53e5",
   "metadata": {},
   "source": [
    "### 3. Окупаемость рекламных кампаний по медиабайерам (ROMI)."
   ]
  },
  {
   "cell_type": "markdown",
   "id": "82f7d1f3",
   "metadata": {},
   "source": [
    "**Доходы в приложении складываются из 2 источников: покупки внутри приложения и реклама.** Рассмотрим, показатели для этих источников."
   ]
  },
  {
   "cell_type": "markdown",
   "id": "ae0fad88",
   "metadata": {},
   "source": [
    "#### 3.1 Paying Share\n",
    "\n",
    "Пользователями будут считаться люди, прошедшие регистрацию. \n",
    "\n",
    "**Формула для расчета:** количество платящих на 30-й день / количество регистраций."
   ]
  },
  {
   "cell_type": "code",
   "execution_count": 45,
   "id": "2ce60858",
   "metadata": {},
   "outputs": [],
   "source": [
    "df['ps_1'] = df['payers1d']/df['registrations']\n",
    "df['ps_7'] = df['payers7d']/df['registrations']\n",
    "df['ps_30'] = df['payers30d']/df['registrations']"
   ]
  },
  {
   "cell_type": "code",
   "execution_count": 46,
   "id": "c62d0feb",
   "metadata": {},
   "outputs": [
    {
     "data": {
      "image/png": "[encoded data removed]",
      "text/plain": [
       "<Figure size 1224x288 with 4 Axes>"
      ]
     },
     "metadata": {
      "needs_background": "light"
     },
     "output_type": "display_data"
    }
   ],
   "source": [
    "plt.figure(figsize = (17, 4))\n",
    "plt.subplot(1, 2, 1)\n",
    "sns.heatmap(df.groupby('buyer')['ps_1', 'ps_7', 'ps_30'].mean(), annot=True, fmt=\".1%\")\n",
    "plt.subplot(1, 2, 2)\n",
    "sns.heatmap(df.groupby('geo')['ps_1', 'ps_7', 'ps_30'].mean(), annot=True, fmt=\".1%\");"
   ]
  },
  {
   "cell_type": "markdown",
   "id": "eee01f68",
   "metadata": {},
   "source": [
    "Видно, что на 7-й и 30-й день доля платящих пользователей увеличивается. **Наибольшая доля платящих характерна для медибайера №3 и достигает в среднем 1.3% на 30-й день.** Есть увеличение доли на 30-й день у медиабайера №5.\n",
    "\n",
    "**Для регионов Австралии и Африки нет платящих пользователей.** Наиболее высокий средний показатель доли платящих характерен для кампаний в Северной Америке и достигает 0.8% к 30-му дню."
   ]
  },
  {
   "cell_type": "code",
   "execution_count": 47,
   "id": "7262d628",
   "metadata": {},
   "outputs": [
    {
     "data": {
      "text/html": [
       "<div>\n",
       "<style scoped>\n",
       "    .dataframe tbody tr th:only-of-type {\n",
       "        vertical-align: middle;\n",
       "    }\n",
       "\n",
       "    .dataframe tbody tr th {\n",
       "        vertical-align: top;\n",
       "    }\n",
       "\n",
       "    .dataframe thead th {\n",
       "        text-align: right;\n",
       "    }\n",
       "</style>\n",
       "<table border=\"1\" class=\"dataframe\">\n",
       "  <thead>\n",
       "    <tr style=\"text-align: right;\">\n",
       "      <th></th>\n",
       "      <th>campaign_id</th>\n",
       "      <th>geo</th>\n",
       "      <th>buyer</th>\n",
       "      <th>registrations</th>\n",
       "      <th>payers1d</th>\n",
       "      <th>payers7d</th>\n",
       "      <th>payers30d</th>\n",
       "      <th>ps_30</th>\n",
       "    </tr>\n",
       "  </thead>\n",
       "  <tbody>\n",
       "    <tr>\n",
       "      <th>47</th>\n",
       "      <td>48</td>\n",
       "      <td>cis</td>\n",
       "      <td>buyer_5</td>\n",
       "      <td>166</td>\n",
       "      <td>1</td>\n",
       "      <td>1</td>\n",
       "      <td>1</td>\n",
       "      <td>0.006024</td>\n",
       "    </tr>\n",
       "    <tr>\n",
       "      <th>54</th>\n",
       "      <td>55</td>\n",
       "      <td>north america</td>\n",
       "      <td>buyer_5</td>\n",
       "      <td>24</td>\n",
       "      <td>0</td>\n",
       "      <td>0</td>\n",
       "      <td>1</td>\n",
       "      <td>0.041667</td>\n",
       "    </tr>\n",
       "  </tbody>\n",
       "</table>\n",
       "</div>"
      ],
      "text/plain": [
       "    campaign_id            geo    buyer  registrations  payers1d  payers7d  \\\n",
       "47           48            cis  buyer_5            166         1         1   \n",
       "54           55  north america  buyer_5             24         0         0   \n",
       "\n",
       "    payers30d     ps_30  \n",
       "47          1  0.006024  \n",
       "54          1  0.041667  "
      ]
     },
     "execution_count": 47,
     "metadata": {},
     "output_type": "execute_result"
    }
   ],
   "source": [
    "# проверка для медиабайера №5\n",
    "df.query('buyer == \"buyer_5\" and ps_30 > 0')\\\n",
    "[['campaign_id', 'geo', 'buyer', 'registrations', 'payers1d', 'payers7d', 'payers30d', 'ps_30']]"
   ]
  },
  {
   "cell_type": "markdown",
   "id": "a58b5b64",
   "metadata": {},
   "source": [
    "Увеличение к 30-му дню вызвано покупкой 1 пользователя."
   ]
  },
  {
   "cell_type": "markdown",
   "id": "982d2642",
   "metadata": {},
   "source": [
    "#### 3.2 ARPU (Average Revenue Per User) - in-app\n",
    "\n",
    "Пользователями будут считаться люди, прошедшие регистрацию. \n",
    "\n",
    "**Формула для расчета:** доход (in-app) на 30-й день / количество регистраций."
   ]
  },
  {
   "cell_type": "code",
   "execution_count": 48,
   "id": "7607d5c9",
   "metadata": {},
   "outputs": [],
   "source": [
    "df['arpu'] = df['revenue_in_app30d']/df['registrations']"
   ]
  },
  {
   "cell_type": "code",
   "execution_count": 49,
   "id": "9b168aa0",
   "metadata": {},
   "outputs": [
    {
     "data": {
      "image/png": "[encoded data removed]",
      "text/plain": [
       "<Figure size 432x288 with 1 Axes>"
      ]
     },
     "metadata": {
      "needs_background": "light"
     },
     "output_type": "display_data"
    }
   ],
   "source": [
    "df['arpu'].hist();"
   ]
  },
  {
   "cell_type": "markdown",
   "id": "c7f7a43d",
   "metadata": {},
   "source": [
    "**Для части кампаний не было покупок внутри приложения**, поэтому ARPU равен 0. Значения ARPU для большей части находятся в пределах до 0.05 у.е."
   ]
  },
  {
   "cell_type": "code",
   "execution_count": 89,
   "id": "21c473b4",
   "metadata": {},
   "outputs": [
    {
     "data": {
      "image/png": "[encoded data removed]",
      "text/plain": [
       "<Figure size 1008x288 with 2 Axes>"
      ]
     },
     "metadata": {
      "needs_background": "light"
     },
     "output_type": "display_data"
    }
   ],
   "source": [
    "fig, axes = plt.subplots(nrows=1, ncols=2, figsize = (14, 4))\n",
    "boxplot_func(df, 'arpu', 'buyer', 0, 'y.e.')\n",
    "boxplot_func(df, 'arpu', 'geo', 1, 'y.e.')"
   ]
  },
  {
   "cell_type": "markdown",
   "id": "4a90da05",
   "metadata": {},
   "source": [
    "**Наиболее высокие показатели ARPU характерны для медиабайров №4 и №2.** Медиана ARPU для всех медиабайеров, кроме №3, равна 0.\n",
    "\n",
    "**Выбросы в значении ARPU в регионе - СНГ**, Северной Америке и Восточной Европе. "
   ]
  },
  {
   "cell_type": "code",
   "execution_count": 51,
   "id": "b8297b4a",
   "metadata": {},
   "outputs": [
    {
     "data": {
      "text/html": [
       "<div>\n",
       "<style scoped>\n",
       "    .dataframe tbody tr th:only-of-type {\n",
       "        vertical-align: middle;\n",
       "    }\n",
       "\n",
       "    .dataframe tbody tr th {\n",
       "        vertical-align: top;\n",
       "    }\n",
       "\n",
       "    .dataframe thead th {\n",
       "        text-align: right;\n",
       "    }\n",
       "</style>\n",
       "<table border=\"1\" class=\"dataframe\">\n",
       "  <thead>\n",
       "    <tr style=\"text-align: right;\">\n",
       "      <th></th>\n",
       "      <th>campaign_id</th>\n",
       "      <th>geo</th>\n",
       "      <th>buyer</th>\n",
       "      <th>impressions</th>\n",
       "      <th>clicks</th>\n",
       "      <th>installs</th>\n",
       "      <th>registrations</th>\n",
       "      <th>spend</th>\n",
       "      <th>revenue_in_app30d</th>\n",
       "      <th>payers30d</th>\n",
       "      <th>arpu</th>\n",
       "    </tr>\n",
       "  </thead>\n",
       "  <tbody>\n",
       "    <tr>\n",
       "      <th>85</th>\n",
       "      <td>86</td>\n",
       "      <td>cis</td>\n",
       "      <td>buyer_4</td>\n",
       "      <td>8334</td>\n",
       "      <td>154</td>\n",
       "      <td>58</td>\n",
       "      <td>27</td>\n",
       "      <td>20.43</td>\n",
       "      <td>7.48</td>\n",
       "      <td>1</td>\n",
       "      <td>0.277037</td>\n",
       "    </tr>\n",
       "  </tbody>\n",
       "</table>\n",
       "</div>"
      ],
      "text/plain": [
       "    campaign_id  geo    buyer  impressions  clicks  installs  registrations  \\\n",
       "85           86  cis  buyer_4         8334     154        58             27   \n",
       "\n",
       "    spend  revenue_in_app30d  payers30d      arpu  \n",
       "85  20.43               7.48          1  0.277037  "
      ]
     },
     "execution_count": 51,
     "metadata": {},
     "output_type": "execute_result"
    }
   ],
   "source": [
    "# кампания с максимальным значением ARPU\n",
    "df.query('arpu > 0.2')[['campaign_id', 'geo', 'buyer', 'impressions', 'clicks', 'installs', 'registrations', \\\n",
    "                        'spend', 'revenue_in_app30d', 'payers30d','arpu']]"
   ]
  },
  {
   "cell_type": "markdown",
   "id": "51646977",
   "metadata": {},
   "source": [
    "**Высокое значение ARPU вызвано тратами в приложении всего 1 пользователя и небольшим количеством регистраций.**"
   ]
  },
  {
   "cell_type": "markdown",
   "id": "24fe68ad",
   "metadata": {},
   "source": [
    "#### 3.3 ARPPU (Average Revenue Per Paying User) - in-app\n",
    "\n",
    "**Формула для расчета:** доход на 30-й день / количество платящих пользователей на 30-й день."
   ]
  },
  {
   "cell_type": "code",
   "execution_count": 52,
   "id": "e35d4dfd",
   "metadata": {},
   "outputs": [],
   "source": [
    "df['arppu'] = df['revenue_in_app30d']/df['payers30d']"
   ]
  },
  {
   "cell_type": "code",
   "execution_count": 53,
   "id": "2f55f0d3",
   "metadata": {},
   "outputs": [
    {
     "data": {
      "image/png": "[encoded data removed]",
      "text/plain": [
       "<Figure size 432x288 with 1 Axes>"
      ]
     },
     "metadata": {
      "needs_background": "light"
     },
     "output_type": "display_data"
    }
   ],
   "source": [
    "df['arppu'].hist();"
   ]
  },
  {
   "cell_type": "markdown",
   "id": "567e74d0",
   "metadata": {},
   "source": [
    "График постепенно убывает."
   ]
  },
  {
   "cell_type": "code",
   "execution_count": 90,
   "id": "3c10d50b",
   "metadata": {},
   "outputs": [
    {
     "data": {
      "image/png": "[encoded data removed]",
      "text/plain": [
       "<Figure size 1008x288 with 2 Axes>"
      ]
     },
     "metadata": {
      "needs_background": "light"
     },
     "output_type": "display_data"
    }
   ],
   "source": [
    "fig, axes = plt.subplots(nrows=1, ncols=2, figsize = (14, 4))\n",
    "boxplot_func(df, 'arppu', 'buyer', 0, 'y.e.')\n",
    "boxplot_func(df, 'arppu', 'geo', 1, 'y.e.')"
   ]
  },
  {
   "cell_type": "markdown",
   "id": "1bcb3737",
   "metadata": {},
   "source": [
    "**Медиана ARPPU наиболее высокая для Северной Америки и стран СНГ.**"
   ]
  },
  {
   "cell_type": "code",
   "execution_count": 56,
   "id": "e17873da",
   "metadata": {
    "scrolled": true
   },
   "outputs": [
    {
     "data": {
      "text/html": [
       "<div>\n",
       "<style scoped>\n",
       "    .dataframe tbody tr th:only-of-type {\n",
       "        vertical-align: middle;\n",
       "    }\n",
       "\n",
       "    .dataframe tbody tr th {\n",
       "        vertical-align: top;\n",
       "    }\n",
       "\n",
       "    .dataframe thead th {\n",
       "        text-align: right;\n",
       "    }\n",
       "</style>\n",
       "<table border=\"1\" class=\"dataframe\">\n",
       "  <thead>\n",
       "    <tr style=\"text-align: right;\">\n",
       "      <th></th>\n",
       "      <th>campaign_id</th>\n",
       "      <th>geo</th>\n",
       "      <th>buyer</th>\n",
       "      <th>impressions</th>\n",
       "      <th>clicks</th>\n",
       "      <th>installs</th>\n",
       "      <th>registrations</th>\n",
       "      <th>spend</th>\n",
       "      <th>revenue_in_app30d</th>\n",
       "      <th>payers30d</th>\n",
       "      <th>arpu</th>\n",
       "      <th>arppu</th>\n",
       "    </tr>\n",
       "  </thead>\n",
       "  <tbody>\n",
       "    <tr>\n",
       "      <th>6</th>\n",
       "      <td>7</td>\n",
       "      <td>north america</td>\n",
       "      <td>buyer_3</td>\n",
       "      <td>88809</td>\n",
       "      <td>3113</td>\n",
       "      <td>926</td>\n",
       "      <td>603</td>\n",
       "      <td>525.510010</td>\n",
       "      <td>32.160001</td>\n",
       "      <td>3</td>\n",
       "      <td>0.053333</td>\n",
       "      <td>10.720000</td>\n",
       "    </tr>\n",
       "    <tr>\n",
       "      <th>7</th>\n",
       "      <td>8</td>\n",
       "      <td>north america</td>\n",
       "      <td>buyer_3</td>\n",
       "      <td>113917</td>\n",
       "      <td>3966</td>\n",
       "      <td>1249</td>\n",
       "      <td>854</td>\n",
       "      <td>521.509998</td>\n",
       "      <td>47.560000</td>\n",
       "      <td>4</td>\n",
       "      <td>0.055691</td>\n",
       "      <td>11.890000</td>\n",
       "    </tr>\n",
       "    <tr>\n",
       "      <th>32</th>\n",
       "      <td>33</td>\n",
       "      <td>north america</td>\n",
       "      <td>buyer_4</td>\n",
       "      <td>21635</td>\n",
       "      <td>475</td>\n",
       "      <td>238</td>\n",
       "      <td>202</td>\n",
       "      <td>116.750000</td>\n",
       "      <td>26.550001</td>\n",
       "      <td>2</td>\n",
       "      <td>0.131436</td>\n",
       "      <td>13.275001</td>\n",
       "    </tr>\n",
       "  </tbody>\n",
       "</table>\n",
       "</div>"
      ],
      "text/plain": [
       "    campaign_id            geo    buyer  impressions  clicks  installs  \\\n",
       "6             7  north america  buyer_3        88809    3113       926   \n",
       "7             8  north america  buyer_3       113917    3966      1249   \n",
       "32           33  north america  buyer_4        21635     475       238   \n",
       "\n",
       "    registrations       spend  revenue_in_app30d  payers30d      arpu  \\\n",
       "6             603  525.510010          32.160001          3  0.053333   \n",
       "7             854  521.509998          47.560000          4  0.055691   \n",
       "32            202  116.750000          26.550001          2  0.131436   \n",
       "\n",
       "        arppu  \n",
       "6   10.720000  \n",
       "7   11.890000  \n",
       "32  13.275001  "
      ]
     },
     "execution_count": 56,
     "metadata": {},
     "output_type": "execute_result"
    }
   ],
   "source": [
    "# топ-3 рекламных кампании по значению ARPPU\n",
    "df.query('arppu > 10')[['campaign_id', 'geo', 'buyer', 'impressions', 'clicks', 'installs', 'registrations', \\\n",
    "                        'spend', 'revenue_in_app30d', 'payers30d', 'arpu', 'arppu']]"
   ]
  },
  {
   "cell_type": "markdown",
   "id": "51e27f9f",
   "metadata": {},
   "source": [
    "#### 3.4 Ad ARPU \n",
    "\n",
    "**Формула для расчета:** доход (ad) на 30-й день / количество регистраций.\n",
    "\n",
    "Так как нет данных по действиям внутри приложения, по количеству показов и т.д. можно косвенно считать эту метрику показателем вовлеченности."
   ]
  },
  {
   "cell_type": "code",
   "execution_count": 57,
   "id": "15de6e7a",
   "metadata": {},
   "outputs": [],
   "source": [
    "df['ad_arpu'] = df['revenue_ad30d']/df['registrations']"
   ]
  },
  {
   "cell_type": "code",
   "execution_count": 58,
   "id": "4503a5b7",
   "metadata": {},
   "outputs": [
    {
     "data": {
      "image/png": "[encoded data removed]",
      "text/plain": [
       "<Figure size 432x288 with 1 Axes>"
      ]
     },
     "metadata": {
      "needs_background": "light"
     },
     "output_type": "display_data"
    }
   ],
   "source": [
    "df['ad_arpu'].hist();"
   ]
  },
  {
   "cell_type": "markdown",
   "id": "66afdec5",
   "metadata": {},
   "source": [
    "Видно, что значение Ad ARPU превышает ARPU in-app, то есть **большая часть дохода - это доход с рекламы.**"
   ]
  },
  {
   "cell_type": "code",
   "execution_count": 91,
   "id": "f1399d3e",
   "metadata": {},
   "outputs": [
    {
     "data": {
      "image/png": "[encoded data removed]",
      "text/plain": [
       "<Figure size 1008x288 with 2 Axes>"
      ]
     },
     "metadata": {
      "needs_background": "light"
     },
     "output_type": "display_data"
    }
   ],
   "source": [
    "fig, axes = plt.subplots(nrows=1, ncols=2, figsize = (14, 4))\n",
    "boxplot_func(df, 'ad_arpu', 'buyer', 0, 'y.e.')\n",
    "boxplot_func(df, 'ad_arpu', 'geo', 1, 'y.e.')"
   ]
  },
  {
   "cell_type": "markdown",
   "id": "88698863",
   "metadata": {},
   "source": [
    "**Медиана Ad ARPU хорошо выделяется для медибайера №3** (рекламные кампании только в Северной Америке). Среди регионов выделяется Северная Америка и Восточная Европа."
   ]
  },
  {
   "cell_type": "code",
   "execution_count": 60,
   "id": "1c57aa32",
   "metadata": {},
   "outputs": [
    {
     "data": {
      "text/html": [
       "<div>\n",
       "<style scoped>\n",
       "    .dataframe tbody tr th:only-of-type {\n",
       "        vertical-align: middle;\n",
       "    }\n",
       "\n",
       "    .dataframe tbody tr th {\n",
       "        vertical-align: top;\n",
       "    }\n",
       "\n",
       "    .dataframe thead th {\n",
       "        text-align: right;\n",
       "    }\n",
       "</style>\n",
       "<table border=\"1\" class=\"dataframe\">\n",
       "  <thead>\n",
       "    <tr style=\"text-align: right;\">\n",
       "      <th></th>\n",
       "      <th>campaign_id</th>\n",
       "      <th>geo</th>\n",
       "      <th>buyer</th>\n",
       "      <th>ad_arpu</th>\n",
       "    </tr>\n",
       "  </thead>\n",
       "  <tbody>\n",
       "    <tr>\n",
       "      <th>66</th>\n",
       "      <td>67</td>\n",
       "      <td>north america</td>\n",
       "      <td>buyer_2</td>\n",
       "      <td>1.138224</td>\n",
       "    </tr>\n",
       "    <tr>\n",
       "      <th>24</th>\n",
       "      <td>25</td>\n",
       "      <td>north america</td>\n",
       "      <td>buyer_3</td>\n",
       "      <td>1.110711</td>\n",
       "    </tr>\n",
       "  </tbody>\n",
       "</table>\n",
       "</div>"
      ],
      "text/plain": [
       "    campaign_id            geo    buyer   ad_arpu\n",
       "66           67  north america  buyer_2  1.138224\n",
       "24           25  north america  buyer_3  1.110711"
      ]
     },
     "execution_count": 60,
     "metadata": {},
     "output_type": "execute_result"
    }
   ],
   "source": [
    "# 2 рекламные кампании с Ad ARPU выше 1 у.е.\n",
    "df[['campaign_id', 'geo', 'buyer', 'ad_arpu']].sort_values(by = 'ad_arpu', ascending = False).head(2)"
   ]
  },
  {
   "cell_type": "markdown",
   "id": "062925ba",
   "metadata": {},
   "source": [
    "#### 3.5 ROMI\n",
    "\n",
    "**Формула для расчета:** ROMI = (Доходы от маркетинга − Расходы на маркетинг) / Расходы на маркетинг * 100%.\n",
    "\n",
    "Окупаемость на 30-й день"
   ]
  },
  {
   "cell_type": "code",
   "execution_count": 61,
   "id": "9b761567",
   "metadata": {},
   "outputs": [],
   "source": [
    "df['total_revenue'] = df['revenue_ad30d']+df['revenue_in_app30d']"
   ]
  },
  {
   "cell_type": "code",
   "execution_count": 62,
   "id": "d8435104",
   "metadata": {},
   "outputs": [],
   "source": [
    "df['romi'] = (df['total_revenue'] - df['spend'])/df['spend']*100"
   ]
  },
  {
   "cell_type": "code",
   "execution_count": 63,
   "id": "4ac251d9",
   "metadata": {},
   "outputs": [
    {
     "data": {
      "image/png": "[encoded data removed]",
      "text/plain": [
       "<Figure size 432x288 with 1 Axes>"
      ]
     },
     "metadata": {
      "needs_background": "light"
     },
     "output_type": "display_data"
    }
   ],
   "source": [
    "df['romi'].hist();"
   ]
  },
  {
   "cell_type": "markdown",
   "id": "097139cd",
   "metadata": {},
   "source": [
    "Большая часть кампаний на 30-й день не окупилась. В некоторых случаях процент стремится к -100%."
   ]
  },
  {
   "cell_type": "code",
   "execution_count": 92,
   "id": "727d8efd",
   "metadata": {},
   "outputs": [
    {
     "data": {
      "image/png": "[encoded data removed]",
      "text/plain": [
       "<Figure size 1008x288 with 2 Axes>"
      ]
     },
     "metadata": {
      "needs_background": "light"
     },
     "output_type": "display_data"
    }
   ],
   "source": [
    "fig, axes = plt.subplots(nrows=1, ncols=2, figsize = (14, 4))\n",
    "boxplot_func(df, 'romi', 'buyer', 0, '%')\n",
    "boxplot_func(df, 'romi', 'geo', 1, '%')"
   ]
  },
  {
   "cell_type": "markdown",
   "id": "a47efab5",
   "metadata": {},
   "source": [
    "Медиана ROMI для всех медиабайеров находится ниже 0. **На графиках видно, что для медиабайеров №1 и №5 нет рекламных кампаний, которые бы окупились.** Для медиабайеров №2 и №4 характерны выбросы ROMI выше 100%. Медиана ROMI наиболее приближена к 0 для медиабайра №3 (всего 6 кампаний: 2 из которых окупились). \n",
    "\n",
    "**Рекламные кампании, которые окупились, характерны только для 2 регионов: Северной Америки и Восточной Европы (выбросы)**, но медиана для них находится ниже 0. "
   ]
  },
  {
   "cell_type": "code",
   "execution_count": 80,
   "id": "a4fa5cf3",
   "metadata": {},
   "outputs": [
    {
     "data": {
      "image/png": "[encoded data removed]",
      "text/plain": [
       "<Figure size 432x288 with 1 Axes>"
      ]
     },
     "metadata": {
      "needs_background": "light"
     },
     "output_type": "display_data"
    }
   ],
   "source": [
    "# так как большая часть кампаний по Северной Америке можно отдельно сравнить окупаемость по медиабайерам\n",
    "df.query('geo == \"north america\"').boxplot(column='romi', by='buyer')\n",
    "plt.title('ROMI по медиабайерам')\n",
    "plt.xlabel('')\n",
    "plt.suptitle('');"
   ]
  },
  {
   "cell_type": "markdown",
   "id": "f091aa80",
   "metadata": {},
   "source": [
    "График похож на предыдущий, **лучший показатель у медиабайера №3, но медиана ROMI все равно ниже 0**. Худшие показатели окупаемости кампаний в Северной Америке у медиабайеров №1 и №5.  "
   ]
  },
  {
   "cell_type": "code",
   "execution_count": 66,
   "id": "d71985a8",
   "metadata": {
    "scrolled": true
   },
   "outputs": [
    {
     "data": {
      "text/html": [
       "<style type=\"text/css\">\n",
       "#T_343d5_row0_col0 {\n",
       "  background-color: #1379b5;\n",
       "  color: #f1f1f1;\n",
       "}\n",
       "#T_343d5_row0_col3, #T_343d5_row0_col7, #T_343d5_row2_col0, #T_343d5_row3_col4, #T_343d5_row3_col5, #T_343d5_row3_col6, #T_343d5_row3_col7, #T_343d5_row3_col8, #T_343d5_row4_col9 {\n",
       "  background-color: #fff7fb;\n",
       "  color: #000000;\n",
       "}\n",
       "#T_343d5_row0_col4 {\n",
       "  background-color: #fdf5fa;\n",
       "  color: #000000;\n",
       "}\n",
       "#T_343d5_row0_col5 {\n",
       "  background-color: #03456c;\n",
       "  color: #f1f1f1;\n",
       "}\n",
       "#T_343d5_row0_col6, #T_343d5_row0_col9, #T_343d5_row2_col3, #T_343d5_row2_col4, #T_343d5_row2_col7, #T_343d5_row2_col8, #T_343d5_row3_col0, #T_343d5_row4_col5 {\n",
       "  background-color: #023858;\n",
       "  color: #f1f1f1;\n",
       "}\n",
       "#T_343d5_row0_col8 {\n",
       "  background-color: #034a74;\n",
       "  color: #f1f1f1;\n",
       "}\n",
       "#T_343d5_row1_col0 {\n",
       "  background-color: #c4cbe3;\n",
       "  color: #000000;\n",
       "}\n",
       "#T_343d5_row1_col3 {\n",
       "  background-color: #a1bbda;\n",
       "  color: #000000;\n",
       "}\n",
       "#T_343d5_row1_col4, #T_343d5_row4_col4 {\n",
       "  background-color: #d4d4e8;\n",
       "  color: #000000;\n",
       "}\n",
       "#T_343d5_row1_col5 {\n",
       "  background-color: #03476f;\n",
       "  color: #f1f1f1;\n",
       "}\n",
       "#T_343d5_row1_col6, #T_343d5_row1_col7 {\n",
       "  background-color: #fbf3f9;\n",
       "  color: #000000;\n",
       "}\n",
       "#T_343d5_row1_col8 {\n",
       "  background-color: #8fb4d6;\n",
       "  color: #000000;\n",
       "}\n",
       "#T_343d5_row1_col9 {\n",
       "  background-color: #045a8d;\n",
       "  color: #f1f1f1;\n",
       "}\n",
       "#T_343d5_row2_col5 {\n",
       "  background-color: #2081b9;\n",
       "  color: #f1f1f1;\n",
       "}\n",
       "#T_343d5_row2_col6 {\n",
       "  background-color: #04629a;\n",
       "  color: #f1f1f1;\n",
       "}\n",
       "#T_343d5_row2_col9 {\n",
       "  background-color: #ede8f3;\n",
       "  color: #000000;\n",
       "}\n",
       "#T_343d5_row3_col3 {\n",
       "  background-color: #e0dded;\n",
       "  color: #000000;\n",
       "}\n",
       "#T_343d5_row3_col9 {\n",
       "  background-color: #faf2f8;\n",
       "  color: #000000;\n",
       "}\n",
       "#T_343d5_row4_col0 {\n",
       "  background-color: #c0c9e2;\n",
       "  color: #000000;\n",
       "}\n",
       "#T_343d5_row4_col3 {\n",
       "  background-color: #dfddec;\n",
       "  color: #000000;\n",
       "}\n",
       "#T_343d5_row4_col6 {\n",
       "  background-color: #0568a3;\n",
       "  color: #f1f1f1;\n",
       "}\n",
       "#T_343d5_row4_col7 {\n",
       "  background-color: #2d8abd;\n",
       "  color: #f1f1f1;\n",
       "}\n",
       "#T_343d5_row4_col8 {\n",
       "  background-color: #4496c3;\n",
       "  color: #f1f1f1;\n",
       "}\n",
       "</style>\n",
       "<table id=\"T_343d5\">\n",
       "  <thead>\n",
       "    <tr>\n",
       "      <th class=\"blank level0\" >&nbsp;</th>\n",
       "      <th id=\"T_343d5_level0_col0\" class=\"col_heading level0 col0\" >campaign_id</th>\n",
       "      <th id=\"T_343d5_level0_col1\" class=\"col_heading level0 col1\" >geo</th>\n",
       "      <th id=\"T_343d5_level0_col2\" class=\"col_heading level0 col2\" >buyer</th>\n",
       "      <th id=\"T_343d5_level0_col3\" class=\"col_heading level0 col3\" >impressions</th>\n",
       "      <th id=\"T_343d5_level0_col4\" class=\"col_heading level0 col4\" >spend</th>\n",
       "      <th id=\"T_343d5_level0_col5\" class=\"col_heading level0 col5\" >cr</th>\n",
       "      <th id=\"T_343d5_level0_col6\" class=\"col_heading level0 col6\" >cpi</th>\n",
       "      <th id=\"T_343d5_level0_col7\" class=\"col_heading level0 col7\" >arpu</th>\n",
       "      <th id=\"T_343d5_level0_col8\" class=\"col_heading level0 col8\" >ad_arpu</th>\n",
       "      <th id=\"T_343d5_level0_col9\" class=\"col_heading level0 col9\" >romi</th>\n",
       "    </tr>\n",
       "  </thead>\n",
       "  <tbody>\n",
       "    <tr>\n",
       "      <th id=\"T_343d5_level0_row0\" class=\"row_heading level0 row0\" >62</th>\n",
       "      <td id=\"T_343d5_row0_col0\" class=\"data row0 col0\" >63</td>\n",
       "      <td id=\"T_343d5_row0_col1\" class=\"data row0 col1\" >north america</td>\n",
       "      <td id=\"T_343d5_row0_col2\" class=\"data row0 col2\" >buyer_4</td>\n",
       "      <td id=\"T_343d5_row0_col3\" class=\"data row0 col3\" >8164</td>\n",
       "      <td id=\"T_343d5_row0_col4\" class=\"data row0 col4\" >29.920000</td>\n",
       "      <td id=\"T_343d5_row0_col5\" class=\"data row0 col5\" >0.943165</td>\n",
       "      <td id=\"T_343d5_row0_col6\" class=\"data row0 col6\" >0.467500</td>\n",
       "      <td id=\"T_343d5_row0_col7\" class=\"data row0 col7\" >0.000000</td>\n",
       "      <td id=\"T_343d5_row0_col8\" class=\"data row0 col8\" >0.870804</td>\n",
       "      <td id=\"T_343d5_row0_col9\" class=\"data row0 col9\" >124.103927</td>\n",
       "    </tr>\n",
       "    <tr>\n",
       "      <th id=\"T_343d5_level0_row1\" class=\"row_heading level0 row1\" >29</th>\n",
       "      <td id=\"T_343d5_row1_col0\" class=\"data row1 col0\" >30</td>\n",
       "      <td id=\"T_343d5_row1_col1\" class=\"data row1 col1\" >western europe</td>\n",
       "      <td id=\"T_343d5_row1_col2\" class=\"data row1 col2\" >buyer_2</td>\n",
       "      <td id=\"T_343d5_row1_col3\" class=\"data row1 col3\" >49131</td>\n",
       "      <td id=\"T_343d5_row1_col4\" class=\"data row1 col4\" >137.100000</td>\n",
       "      <td id=\"T_343d5_row1_col5\" class=\"data row1 col5\" >0.938308</td>\n",
       "      <td id=\"T_343d5_row1_col6\" class=\"data row1 col6\" >0.189627</td>\n",
       "      <td id=\"T_343d5_row1_col7\" class=\"data row1 col7\" >0.001562</td>\n",
       "      <td id=\"T_343d5_row1_col8\" class=\"data row1 col8\" >0.635881</td>\n",
       "      <td id=\"T_343d5_row1_col9\" class=\"data row1 col9\" >114.340584</td>\n",
       "    </tr>\n",
       "    <tr>\n",
       "      <th id=\"T_343d5_level0_row2\" class=\"row_heading level0 row2\" >7</th>\n",
       "      <td id=\"T_343d5_row2_col0\" class=\"data row2 col0\" >8</td>\n",
       "      <td id=\"T_343d5_row2_col1\" class=\"data row2 col1\" >north america</td>\n",
       "      <td id=\"T_343d5_row2_col2\" class=\"data row2 col2\" >buyer_3</td>\n",
       "      <td id=\"T_343d5_row2_col3\" class=\"data row2 col3\" >113917</td>\n",
       "      <td id=\"T_343d5_row2_col4\" class=\"data row2 col4\" >521.509998</td>\n",
       "      <td id=\"T_343d5_row2_col5\" class=\"data row2 col5\" >0.749669</td>\n",
       "      <td id=\"T_343d5_row2_col6\" class=\"data row2 col6\" >0.417542</td>\n",
       "      <td id=\"T_343d5_row2_col7\" class=\"data row2 col7\" >0.055691</td>\n",
       "      <td id=\"T_343d5_row2_col8\" class=\"data row2 col8\" >0.902786</td>\n",
       "      <td id=\"T_343d5_row2_col9\" class=\"data row2 col9\" >56.955608</td>\n",
       "    </tr>\n",
       "    <tr>\n",
       "      <th id=\"T_343d5_level0_row3\" class=\"row_heading level0 row3\" >84</th>\n",
       "      <td id=\"T_343d5_row3_col0\" class=\"data row3 col0\" >85</td>\n",
       "      <td id=\"T_343d5_row3_col1\" class=\"data row3 col1\" >western europe</td>\n",
       "      <td id=\"T_343d5_row3_col2\" class=\"data row3 col2\" >buyer_4</td>\n",
       "      <td id=\"T_343d5_row3_col3\" class=\"data row3 col3\" >27422</td>\n",
       "      <td id=\"T_343d5_row3_col4\" class=\"data row3 col4\" >20.430000</td>\n",
       "      <td id=\"T_343d5_row3_col5\" class=\"data row3 col5\" >0.258916</td>\n",
       "      <td id=\"T_343d5_row3_col6\" class=\"data row3 col6\" >0.180796</td>\n",
       "      <td id=\"T_343d5_row3_col7\" class=\"data row3 col7\" >0.000000</td>\n",
       "      <td id=\"T_343d5_row3_col8\" class=\"data row3 col8\" >0.433576</td>\n",
       "      <td id=\"T_343d5_row3_col9\" class=\"data row3 col9\" >50.679897</td>\n",
       "    </tr>\n",
       "    <tr>\n",
       "      <th id=\"T_343d5_level0_row4\" class=\"row_heading level0 row4\" >30</th>\n",
       "      <td id=\"T_343d5_row4_col0\" class=\"data row4 col0\" >31</td>\n",
       "      <td id=\"T_343d5_row4_col1\" class=\"data row4 col1\" >north america</td>\n",
       "      <td id=\"T_343d5_row4_col2\" class=\"data row4 col2\" >buyer_4</td>\n",
       "      <td id=\"T_343d5_row4_col3\" class=\"data row4 col3\" >27598</td>\n",
       "      <td id=\"T_343d5_row4_col4\" class=\"data row4 col4\" >136.879999</td>\n",
       "      <td id=\"T_343d5_row4_col5\" class=\"data row4 col5\" >0.978332</td>\n",
       "      <td id=\"T_343d5_row4_col6\" class=\"data row4 col6\" >0.408597</td>\n",
       "      <td id=\"T_343d5_row4_col7\" class=\"data row4 col7\" >0.036111</td>\n",
       "      <td id=\"T_343d5_row4_col8\" class=\"data row4 col8\" >0.713695</td>\n",
       "      <td id=\"T_343d5_row4_col9\" class=\"data row4 col9\" >47.901465</td>\n",
       "    </tr>\n",
       "  </tbody>\n",
       "</table>\n"
      ],
      "text/plain": [
       "<pandas.io.formats.style.Styler at 0x23ad2a74eb0>"
      ]
     },
     "execution_count": 66,
     "metadata": {},
     "output_type": "execute_result"
    }
   ],
   "source": [
    "# топ-5 кампаний, которые наиболее окупились \n",
    "df[['campaign_id', 'geo', 'buyer', 'impressions', 'spend', 'cr', 'cpi', 'arpu', 'ad_arpu', 'romi']].\\\n",
    "sort_values(by = 'romi', ascending = False).head(5).style.background_gradient()"
   ]
  },
  {
   "cell_type": "markdown",
   "id": "cdcb1dfa",
   "metadata": {},
   "source": [
    "Кампании от медиабайров №4, №2 и №3 в регионах Северной Америке и Восточной Европе.\n",
    "\n",
    "Для кампаний с высокой окупаемостью характерно **высокое значение конверсии --> высокое значение Ad ARPU** (в некоторых кампаниях есть покупки внутри приложения), средняя стоимость установки."
   ]
  },
  {
   "cell_type": "code",
   "execution_count": 68,
   "id": "907115d6",
   "metadata": {
    "scrolled": true
   },
   "outputs": [
    {
     "data": {
      "text/html": [
       "<style type=\"text/css\">\n",
       "#T_cc7cf_row0_col0 {\n",
       "  background-color: #99b8d8;\n",
       "  color: #000000;\n",
       "}\n",
       "#T_cc7cf_row0_col3 {\n",
       "  background-color: #f9f2f8;\n",
       "  color: #000000;\n",
       "}\n",
       "#T_cc7cf_row0_col4 {\n",
       "  background-color: #dad9ea;\n",
       "  color: #000000;\n",
       "}\n",
       "#T_cc7cf_row0_col5, #T_cc7cf_row2_col4 {\n",
       "  background-color: #fcf4fa;\n",
       "  color: #000000;\n",
       "}\n",
       "#T_cc7cf_row0_col6 {\n",
       "  background-color: #ede8f3;\n",
       "  color: #000000;\n",
       "}\n",
       "#T_cc7cf_row0_col7, #T_cc7cf_row0_col9, #T_cc7cf_row1_col6, #T_cc7cf_row1_col7, #T_cc7cf_row1_col8, #T_cc7cf_row2_col5, #T_cc7cf_row2_col7, #T_cc7cf_row3_col3, #T_cc7cf_row3_col4, #T_cc7cf_row3_col7, #T_cc7cf_row4_col0, #T_cc7cf_row4_col7 {\n",
       "  background-color: #fff7fb;\n",
       "  color: #000000;\n",
       "}\n",
       "#T_cc7cf_row0_col8 {\n",
       "  background-color: #045b8e;\n",
       "  color: #f1f1f1;\n",
       "}\n",
       "#T_cc7cf_row1_col0 {\n",
       "  background-color: #c9cee4;\n",
       "  color: #000000;\n",
       "}\n",
       "#T_cc7cf_row1_col3 {\n",
       "  background-color: #60a1ca;\n",
       "  color: #f1f1f1;\n",
       "}\n",
       "#T_cc7cf_row1_col4 {\n",
       "  background-color: #bcc7e1;\n",
       "  color: #000000;\n",
       "}\n",
       "#T_cc7cf_row1_col5 {\n",
       "  background-color: #fef6fa;\n",
       "  color: #000000;\n",
       "}\n",
       "#T_cc7cf_row1_col9 {\n",
       "  background-color: #e7e3f0;\n",
       "  color: #000000;\n",
       "}\n",
       "#T_cc7cf_row2_col0 {\n",
       "  background-color: #03446a;\n",
       "  color: #f1f1f1;\n",
       "}\n",
       "#T_cc7cf_row2_col3 {\n",
       "  background-color: #e0deed;\n",
       "  color: #000000;\n",
       "}\n",
       "#T_cc7cf_row2_col6 {\n",
       "  background-color: #fdf5fa;\n",
       "  color: #000000;\n",
       "}\n",
       "#T_cc7cf_row2_col8, #T_cc7cf_row3_col0, #T_cc7cf_row3_col5, #T_cc7cf_row3_col6, #T_cc7cf_row4_col3, #T_cc7cf_row4_col4, #T_cc7cf_row4_col9 {\n",
       "  background-color: #023858;\n",
       "  color: #f1f1f1;\n",
       "}\n",
       "#T_cc7cf_row2_col9 {\n",
       "  background-color: #86b0d3;\n",
       "  color: #000000;\n",
       "}\n",
       "#T_cc7cf_row3_col8 {\n",
       "  background-color: #63a2cb;\n",
       "  color: #f1f1f1;\n",
       "}\n",
       "#T_cc7cf_row3_col9 {\n",
       "  background-color: #046198;\n",
       "  color: #f1f1f1;\n",
       "}\n",
       "#T_cc7cf_row4_col5 {\n",
       "  background-color: #e6e2ef;\n",
       "  color: #000000;\n",
       "}\n",
       "#T_cc7cf_row4_col6 {\n",
       "  background-color: #f8f1f8;\n",
       "  color: #000000;\n",
       "}\n",
       "#T_cc7cf_row4_col8 {\n",
       "  background-color: #f4eef6;\n",
       "  color: #000000;\n",
       "}\n",
       "</style>\n",
       "<table id=\"T_cc7cf\">\n",
       "  <thead>\n",
       "    <tr>\n",
       "      <th class=\"blank level0\" >&nbsp;</th>\n",
       "      <th id=\"T_cc7cf_level0_col0\" class=\"col_heading level0 col0\" >campaign_id</th>\n",
       "      <th id=\"T_cc7cf_level0_col1\" class=\"col_heading level0 col1\" >geo</th>\n",
       "      <th id=\"T_cc7cf_level0_col2\" class=\"col_heading level0 col2\" >buyer</th>\n",
       "      <th id=\"T_cc7cf_level0_col3\" class=\"col_heading level0 col3\" >impressions</th>\n",
       "      <th id=\"T_cc7cf_level0_col4\" class=\"col_heading level0 col4\" >spend</th>\n",
       "      <th id=\"T_cc7cf_level0_col5\" class=\"col_heading level0 col5\" >cr</th>\n",
       "      <th id=\"T_cc7cf_level0_col6\" class=\"col_heading level0 col6\" >cpi</th>\n",
       "      <th id=\"T_cc7cf_level0_col7\" class=\"col_heading level0 col7\" >arpu</th>\n",
       "      <th id=\"T_cc7cf_level0_col8\" class=\"col_heading level0 col8\" >ad_arpu</th>\n",
       "      <th id=\"T_cc7cf_level0_col9\" class=\"col_heading level0 col9\" >romi</th>\n",
       "    </tr>\n",
       "  </thead>\n",
       "  <tbody>\n",
       "    <tr>\n",
       "      <th id=\"T_cc7cf_level0_row0\" class=\"row_heading level0 row0\" >67</th>\n",
       "      <td id=\"T_cc7cf_row0_col0\" class=\"data row0 col0\" >68</td>\n",
       "      <td id=\"T_cc7cf_row0_col1\" class=\"data row0 col1\" >north america</td>\n",
       "      <td id=\"T_cc7cf_row0_col2\" class=\"data row0 col2\" >buyer_2</td>\n",
       "      <td id=\"T_cc7cf_row0_col3\" class=\"data row0 col3\" >3815</td>\n",
       "      <td id=\"T_cc7cf_row0_col4\" class=\"data row0 col4\" >25.760000</td>\n",
       "      <td id=\"T_cc7cf_row0_col5\" class=\"data row0 col5\" >0.052425</td>\n",
       "      <td id=\"T_cc7cf_row0_col6\" class=\"data row0 col6\" >0.357778</td>\n",
       "      <td id=\"T_cc7cf_row0_col7\" class=\"data row0 col7\" >0.000000</td>\n",
       "      <td id=\"T_cc7cf_row0_col8\" class=\"data row0 col8\" >0.184332</td>\n",
       "      <td id=\"T_cc7cf_row0_col9\" class=\"data row0 col9\" >-98.568855</td>\n",
       "    </tr>\n",
       "    <tr>\n",
       "      <th id=\"T_cc7cf_level0_row1\" class=\"row_heading level0 row1\" >64</th>\n",
       "      <td id=\"T_cc7cf_row1_col0\" class=\"data row1 col0\" >65</td>\n",
       "      <td id=\"T_cc7cf_row1_col1\" class=\"data row1 col1\" >north america</td>\n",
       "      <td id=\"T_cc7cf_row1_col2\" class=\"data row1 col2\" >buyer_1</td>\n",
       "      <td id=\"T_cc7cf_row1_col3\" class=\"data row1 col3\" >23016</td>\n",
       "      <td id=\"T_cc7cf_row1_col4\" class=\"data row1 col4\" >27.900000</td>\n",
       "      <td id=\"T_cc7cf_row1_col5\" class=\"data row1 col5\" >0.047793</td>\n",
       "      <td id=\"T_cc7cf_row1_col6\" class=\"data row1 col6\" >0.110277</td>\n",
       "      <td id=\"T_cc7cf_row1_col7\" class=\"data row1 col7\" >0.000000</td>\n",
       "      <td id=\"T_cc7cf_row1_col8\" class=\"data row1 col8\" >0.055115</td>\n",
       "      <td id=\"T_cc7cf_row1_col9\" class=\"data row1 col9\" >-97.827014</td>\n",
       "    </tr>\n",
       "    <tr>\n",
       "      <th id=\"T_cc7cf_level0_row2\" class=\"row_heading level0 row2\" >79</th>\n",
       "      <td id=\"T_cc7cf_row2_col0\" class=\"data row2 col0\" >80</td>\n",
       "      <td id=\"T_cc7cf_row2_col1\" class=\"data row2 col1\" >western europe</td>\n",
       "      <td id=\"T_cc7cf_row2_col2\" class=\"data row2 col2\" >buyer_2</td>\n",
       "      <td id=\"T_cc7cf_row2_col3\" class=\"data row2 col3\" >8981</td>\n",
       "      <td id=\"T_cc7cf_row2_col4\" class=\"data row2 col4\" >21.950001</td>\n",
       "      <td id=\"T_cc7cf_row2_col5\" class=\"data row2 col5\" >0.044538</td>\n",
       "      <td id=\"T_cc7cf_row2_col6\" class=\"data row2 col6\" >0.137188</td>\n",
       "      <td id=\"T_cc7cf_row2_col7\" class=\"data row2 col7\" >0.000000</td>\n",
       "      <td id=\"T_cc7cf_row2_col8\" class=\"data row2 col8\" >0.203914</td>\n",
       "      <td id=\"T_cc7cf_row2_col9\" class=\"data row2 col9\" >-96.284028</td>\n",
       "    </tr>\n",
       "    <tr>\n",
       "      <th id=\"T_cc7cf_level0_row3\" class=\"row_heading level0 row3\" >80</th>\n",
       "      <td id=\"T_cc7cf_row3_col0\" class=\"data row3 col0\" >81</td>\n",
       "      <td id=\"T_cc7cf_row3_col1\" class=\"data row3 col1\" >australia oceania</td>\n",
       "      <td id=\"T_cc7cf_row3_col2\" class=\"data row3 col2\" >buyer_5</td>\n",
       "      <td id=\"T_cc7cf_row3_col3\" class=\"data row3 col3\" >2185</td>\n",
       "      <td id=\"T_cc7cf_row3_col4\" class=\"data row3 col4\" >21.549999</td>\n",
       "      <td id=\"T_cc7cf_row3_col5\" class=\"data row3 col5\" >0.411899</td>\n",
       "      <td id=\"T_cc7cf_row3_col6\" class=\"data row3 col6\" >2.155000</td>\n",
       "      <td id=\"T_cc7cf_row3_col7\" class=\"data row3 col7\" >0.000000</td>\n",
       "      <td id=\"T_cc7cf_row3_col8\" class=\"data row3 col8\" >0.134740</td>\n",
       "      <td id=\"T_cc7cf_row3_col9\" class=\"data row3 col9\" >-94.372789</td>\n",
       "    </tr>\n",
       "    <tr>\n",
       "      <th id=\"T_cc7cf_level0_row4\" class=\"row_heading level0 row4\" >58</th>\n",
       "      <td id=\"T_cc7cf_row4_col0\" class=\"data row4 col0\" >59</td>\n",
       "      <td id=\"T_cc7cf_row4_col1\" class=\"data row4 col1\" >cis</td>\n",
       "      <td id=\"T_cc7cf_row4_col2\" class=\"data row4 col2\" >buyer_2</td>\n",
       "      <td id=\"T_cc7cf_row4_col3\" class=\"data row4 col3\" >40633</td>\n",
       "      <td id=\"T_cc7cf_row4_col4\" class=\"data row4 col4\" >41.910000</td>\n",
       "      <td id=\"T_cc7cf_row4_col5\" class=\"data row4 col5\" >0.100903</td>\n",
       "      <td id=\"T_cc7cf_row4_col6\" class=\"data row4 col6\" >0.210603</td>\n",
       "      <td id=\"T_cc7cf_row4_col7\" class=\"data row4 col7\" >0.000000</td>\n",
       "      <td id=\"T_cc7cf_row4_col8\" class=\"data row4 col8\" >0.066155</td>\n",
       "      <td id=\"T_cc7cf_row4_col9\" class=\"data row4 col9\" >-93.528151</td>\n",
       "    </tr>\n",
       "  </tbody>\n",
       "</table>\n"
      ],
      "text/plain": [
       "<pandas.io.formats.style.Styler at 0x23ad1be8a00>"
      ]
     },
     "execution_count": 68,
     "metadata": {},
     "output_type": "execute_result"
    }
   ],
   "source": [
    "# топ-5 кампаний с наименьшей окупаемостью \n",
    "df[['campaign_id', 'geo', 'buyer', 'impressions', 'spend', 'cr', 'cpi', 'arpu', 'ad_arpu', 'romi']]\\\n",
    ".sort_values(by = 'romi', ascending = True).head(5).style.background_gradient()"
   ]
  },
  {
   "cell_type": "markdown",
   "id": "6ba3713e",
   "metadata": {},
   "source": [
    "**Кампании от медиабайров №2, №5 и №1 в регионах Северной Америке, Австралии, Восточной Европе и СНГ.** \n",
    "\n",
    "Для кампаний с низкой окупаемостью характерно **низкое значение конверсии --> низкое значение Ad ARPU**, средняя стоимость установки (кроме выброса в Австралии)."
   ]
  },
  {
   "cell_type": "markdown",
   "id": "93cc10e2",
   "metadata": {},
   "source": [
    "**Рассмотрим, есть ли зависимость между ROMI и метриками.**"
   ]
  },
  {
   "cell_type": "code",
   "execution_count": 69,
   "id": "de3364cf",
   "metadata": {},
   "outputs": [
    {
     "data": {
      "image/png": "[encoded data removed]",
      "text/plain": [
       "<Figure size 864x504 with 2 Axes>"
      ]
     },
     "metadata": {
      "needs_background": "light"
     },
     "output_type": "display_data"
    }
   ],
   "source": [
    "# корреляционная матрица\n",
    "mask = np.triu(np.ones_like(df.query('cpi < 2')[['impressions', 'cpi', 'ctr', 'cti', 'cr_reg', 'ipm', 'cr', 'romi', 'ad_arpu', \n",
    "                                'arpu', 'arppu', 'ps_30']].corr()))  \n",
    "\n",
    "fig, ax = plt.subplots(figsize=(12,7))  \n",
    "sns.heatmap(df.query('cpi < 2')[['impressions', 'cpi', 'ctr', 'cti', 'cr_reg', 'ipm', 'cr', 'romi', 'ad_arpu', \n",
    "                                'arpu', 'arppu', 'ps_30']].corr(), annot = True, ax = ax, mask = mask);"
   ]
  },
  {
   "cell_type": "markdown",
   "id": "ecae55b4",
   "metadata": {},
   "source": [
    "**Есть средняя положительная зависимость между CPI и Ad ARPU (0.72)**, между ROMI и CR_reg также есть средняя положительная зависимость, между ROMI и Ad ARPU (так как большая часть дохода приходит с рекламы)."
   ]
  },
  {
   "cell_type": "code",
   "execution_count": 72,
   "id": "58ca6e35",
   "metadata": {},
   "outputs": [
    {
     "data": {
      "image/png": "[encoded data removed]",
      "text/plain": [
       "<Figure size 1008x288 with 2 Axes>"
      ]
     },
     "metadata": {
      "needs_background": "light"
     },
     "output_type": "display_data"
    }
   ],
   "source": [
    "# график рассеяния для CPI и Ad ARPU\n",
    "plt.figure(figsize = (14, 4))\n",
    "plt.subplot(1, 2, 1)\n",
    "sns.scatterplot(data = df.query('cpi < 2'), x = 'ad_arpu', y = 'cpi', hue = 'buyer')\n",
    "plt.subplot(1, 2, 2)\n",
    "sns.scatterplot(data = df.query('cpi < 2'), x = 'ad_arpu', y = 'cpi', hue = 'geo');"
   ]
  },
  {
   "cell_type": "markdown",
   "id": "2c06dd82",
   "metadata": {},
   "source": [
    "Можно предположить, что **чем выше цена установки (CPI), тем более вовлеченные пользователи, то есть Ad ARPU выше.** Скорее всего это связано с фактором региона, так как для Северной Америке большая часть точек находится около значений CPI 0.3-0.6, а значение Ad ARPU от 0.4 до 0.8. \n",
    "\n",
    "**Среди медиабайеров выделяется №2, для которого хорошо видна линейная зависимость**, но это скорее вызвано различием регионов (так как у данного медиабайера кампании по Северной Америке, Восточной Европе и СНГ)."
   ]
  },
  {
   "cell_type": "code",
   "execution_count": 99,
   "id": "bef33844",
   "metadata": {},
   "outputs": [
    {
     "data": {
      "text/html": [
       "<style type=\"text/css\">\n",
       "#T_0f0d5_row0_col0, #T_0f0d5_row0_col2, #T_0f0d5_row0_col5, #T_0f0d5_row6_col0, #T_0f0d5_row6_col2, #T_0f0d5_row6_col3, #T_0f0d5_row6_col4, #T_0f0d5_row11_col1, #T_0f0d5_row12_col0, #T_0f0d5_row12_col2, #T_0f0d5_row14_col0, #T_0f0d5_row14_col2, #T_0f0d5_row15_col0, #T_0f0d5_row15_col2 {\n",
       "  background-color: #fff7fb;\n",
       "  color: #000000;\n",
       "}\n",
       "#T_0f0d5_row0_col1, #T_0f0d5_row6_col1, #T_0f0d5_row12_col1, #T_0f0d5_row14_col1, #T_0f0d5_row15_col1 {\n",
       "  background-color: #000000;\n",
       "  color: #f1f1f1;\n",
       "}\n",
       "#T_0f0d5_row0_col3 {\n",
       "  background-color: #e1dfed;\n",
       "  color: #000000;\n",
       "}\n",
       "#T_0f0d5_row0_col4, #T_0f0d5_row3_col0, #T_0f0d5_row3_col1, #T_0f0d5_row9_col3, #T_0f0d5_row9_col5, #T_0f0d5_row11_col2 {\n",
       "  background-color: #023858;\n",
       "  color: #f1f1f1;\n",
       "}\n",
       "#T_0f0d5_row1_col0, #T_0f0d5_row4_col4 {\n",
       "  background-color: #fbf4f9;\n",
       "  color: #000000;\n",
       "}\n",
       "#T_0f0d5_row1_col1, #T_0f0d5_row13_col0 {\n",
       "  background-color: #f2ecf5;\n",
       "  color: #000000;\n",
       "}\n",
       "#T_0f0d5_row1_col2, #T_0f0d5_row4_col0, #T_0f0d5_row7_col2 {\n",
       "  background-color: #eae6f1;\n",
       "  color: #000000;\n",
       "}\n",
       "#T_0f0d5_row1_col3 {\n",
       "  background-color: #dedcec;\n",
       "  color: #000000;\n",
       "}\n",
       "#T_0f0d5_row1_col4, #T_0f0d5_row6_col5, #T_0f0d5_row7_col0 {\n",
       "  background-color: #f6eff7;\n",
       "  color: #000000;\n",
       "}\n",
       "#T_0f0d5_row1_col5 {\n",
       "  background-color: #549cc7;\n",
       "  color: #f1f1f1;\n",
       "}\n",
       "#T_0f0d5_row2_col0, #T_0f0d5_row5_col3 {\n",
       "  background-color: #f8f1f8;\n",
       "  color: #000000;\n",
       "}\n",
       "#T_0f0d5_row2_col1 {\n",
       "  background-color: #a8bedc;\n",
       "  color: #000000;\n",
       "}\n",
       "#T_0f0d5_row2_col2 {\n",
       "  background-color: #f1ebf4;\n",
       "  color: #000000;\n",
       "}\n",
       "#T_0f0d5_row2_col3 {\n",
       "  background-color: #dddbec;\n",
       "  color: #000000;\n",
       "}\n",
       "#T_0f0d5_row2_col4 {\n",
       "  background-color: #f5eef6;\n",
       "  color: #000000;\n",
       "}\n",
       "#T_0f0d5_row2_col5 {\n",
       "  background-color: #bdc8e1;\n",
       "  color: #000000;\n",
       "}\n",
       "#T_0f0d5_row3_col2 {\n",
       "  background-color: #045687;\n",
       "  color: #f1f1f1;\n",
       "}\n",
       "#T_0f0d5_row3_col3 {\n",
       "  background-color: #d9d8ea;\n",
       "  color: #000000;\n",
       "}\n",
       "#T_0f0d5_row3_col4, #T_0f0d5_row14_col4 {\n",
       "  background-color: #eee8f3;\n",
       "  color: #000000;\n",
       "}\n",
       "#T_0f0d5_row3_col5, #T_0f0d5_row11_col5 {\n",
       "  background-color: #b7c5df;\n",
       "  color: #000000;\n",
       "}\n",
       "#T_0f0d5_row4_col1 {\n",
       "  background-color: #adc1dd;\n",
       "  color: #000000;\n",
       "}\n",
       "#T_0f0d5_row4_col2 {\n",
       "  background-color: #c2cbe2;\n",
       "  color: #000000;\n",
       "}\n",
       "#T_0f0d5_row4_col3, #T_0f0d5_row8_col4 {\n",
       "  background-color: #e4e1ef;\n",
       "  color: #000000;\n",
       "}\n",
       "#T_0f0d5_row4_col5 {\n",
       "  background-color: #afc1dd;\n",
       "  color: #000000;\n",
       "}\n",
       "#T_0f0d5_row5_col0 {\n",
       "  background-color: #f4eef6;\n",
       "  color: #000000;\n",
       "}\n",
       "#T_0f0d5_row5_col1 {\n",
       "  background-color: #e8e4f0;\n",
       "  color: #000000;\n",
       "}\n",
       "#T_0f0d5_row5_col2 {\n",
       "  background-color: #dfddec;\n",
       "  color: #000000;\n",
       "}\n",
       "#T_0f0d5_row5_col4 {\n",
       "  background-color: #fbf3f9;\n",
       "  color: #000000;\n",
       "}\n",
       "#T_0f0d5_row5_col5, #T_0f0d5_row7_col1 {\n",
       "  background-color: #a5bddb;\n",
       "  color: #000000;\n",
       "}\n",
       "#T_0f0d5_row7_col3 {\n",
       "  background-color: #a1bbda;\n",
       "  color: #000000;\n",
       "}\n",
       "#T_0f0d5_row7_col4 {\n",
       "  background-color: #eee9f3;\n",
       "  color: #000000;\n",
       "}\n",
       "#T_0f0d5_row7_col5 {\n",
       "  background-color: #7eadd1;\n",
       "  color: #f1f1f1;\n",
       "}\n",
       "#T_0f0d5_row8_col0, #T_0f0d5_row9_col0 {\n",
       "  background-color: #cdd0e5;\n",
       "  color: #000000;\n",
       "}\n",
       "#T_0f0d5_row8_col1 {\n",
       "  background-color: #5a9ec9;\n",
       "  color: #f1f1f1;\n",
       "}\n",
       "#T_0f0d5_row8_col2 {\n",
       "  background-color: #8cb3d5;\n",
       "  color: #000000;\n",
       "}\n",
       "#T_0f0d5_row8_col3 {\n",
       "  background-color: #3d93c2;\n",
       "  color: #f1f1f1;\n",
       "}\n",
       "#T_0f0d5_row8_col5 {\n",
       "  background-color: #328dbf;\n",
       "  color: #f1f1f1;\n",
       "}\n",
       "#T_0f0d5_row9_col1 {\n",
       "  background-color: #348ebf;\n",
       "  color: #f1f1f1;\n",
       "}\n",
       "#T_0f0d5_row9_col2 {\n",
       "  background-color: #4094c3;\n",
       "  color: #f1f1f1;\n",
       "}\n",
       "#T_0f0d5_row9_col4 {\n",
       "  background-color: #d2d3e7;\n",
       "  color: #000000;\n",
       "}\n",
       "#T_0f0d5_row10_col0 {\n",
       "  background-color: #bfc9e1;\n",
       "  color: #000000;\n",
       "}\n",
       "#T_0f0d5_row10_col1 {\n",
       "  background-color: #056aa6;\n",
       "  color: #f1f1f1;\n",
       "}\n",
       "#T_0f0d5_row10_col2 {\n",
       "  background-color: #abbfdc;\n",
       "  color: #000000;\n",
       "}\n",
       "#T_0f0d5_row10_col3 {\n",
       "  background-color: #2081b9;\n",
       "  color: #f1f1f1;\n",
       "}\n",
       "#T_0f0d5_row10_col4 {\n",
       "  background-color: #d8d7e9;\n",
       "  color: #000000;\n",
       "}\n",
       "#T_0f0d5_row10_col5 {\n",
       "  background-color: #045483;\n",
       "  color: #f1f1f1;\n",
       "}\n",
       "#T_0f0d5_row11_col0, #T_0f0d5_row12_col5 {\n",
       "  background-color: #f0eaf4;\n",
       "  color: #000000;\n",
       "}\n",
       "#T_0f0d5_row11_col3 {\n",
       "  background-color: #187cb6;\n",
       "  color: #f1f1f1;\n",
       "}\n",
       "#T_0f0d5_row11_col4 {\n",
       "  background-color: #bbc7e0;\n",
       "  color: #000000;\n",
       "}\n",
       "#T_0f0d5_row12_col3 {\n",
       "  background-color: #fef6fa;\n",
       "  color: #000000;\n",
       "}\n",
       "#T_0f0d5_row12_col4 {\n",
       "  background-color: #fdf5fa;\n",
       "  color: #000000;\n",
       "}\n",
       "#T_0f0d5_row13_col1 {\n",
       "  background-color: #b9c6e0;\n",
       "  color: #000000;\n",
       "}\n",
       "#T_0f0d5_row13_col2 {\n",
       "  background-color: #d1d2e6;\n",
       "  color: #000000;\n",
       "}\n",
       "#T_0f0d5_row13_col3 {\n",
       "  background-color: #86b0d3;\n",
       "  color: #000000;\n",
       "}\n",
       "#T_0f0d5_row13_col4 {\n",
       "  background-color: #e6e2ef;\n",
       "  color: #000000;\n",
       "}\n",
       "#T_0f0d5_row13_col5 {\n",
       "  background-color: #2f8bbe;\n",
       "  color: #f1f1f1;\n",
       "}\n",
       "#T_0f0d5_row14_col3 {\n",
       "  background-color: #93b5d6;\n",
       "  color: #000000;\n",
       "}\n",
       "#T_0f0d5_row14_col5 {\n",
       "  background-color: #045a8d;\n",
       "  color: #f1f1f1;\n",
       "}\n",
       "#T_0f0d5_row15_col3 {\n",
       "  background-color: #99b8d8;\n",
       "  color: #000000;\n",
       "}\n",
       "#T_0f0d5_row15_col4 {\n",
       "  background-color: #e7e3f0;\n",
       "  color: #000000;\n",
       "}\n",
       "#T_0f0d5_row15_col5 {\n",
       "  background-color: #a2bcda;\n",
       "  color: #000000;\n",
       "}\n",
       "</style>\n",
       "<table id=\"T_0f0d5\">\n",
       "  <thead>\n",
       "    <tr>\n",
       "      <th class=\"blank\" >&nbsp;</th>\n",
       "      <th class=\"blank level0\" >&nbsp;</th>\n",
       "      <th id=\"T_0f0d5_level0_col0\" class=\"col_heading level0 col0\" >arpu</th>\n",
       "      <th id=\"T_0f0d5_level0_col1\" class=\"col_heading level0 col1\" >arppu</th>\n",
       "      <th id=\"T_0f0d5_level0_col2\" class=\"col_heading level0 col2\" >ps_30</th>\n",
       "      <th id=\"T_0f0d5_level0_col3\" class=\"col_heading level0 col3\" >ad_arpu</th>\n",
       "      <th id=\"T_0f0d5_level0_col4\" class=\"col_heading level0 col4\" >cpi</th>\n",
       "      <th id=\"T_0f0d5_level0_col5\" class=\"col_heading level0 col5\" >romi</th>\n",
       "    </tr>\n",
       "    <tr>\n",
       "      <th class=\"index_name level0\" >geo</th>\n",
       "      <th class=\"index_name level1\" >buyer</th>\n",
       "      <th class=\"blank col0\" >&nbsp;</th>\n",
       "      <th class=\"blank col1\" >&nbsp;</th>\n",
       "      <th class=\"blank col2\" >&nbsp;</th>\n",
       "      <th class=\"blank col3\" >&nbsp;</th>\n",
       "      <th class=\"blank col4\" >&nbsp;</th>\n",
       "      <th class=\"blank col5\" >&nbsp;</th>\n",
       "    </tr>\n",
       "  </thead>\n",
       "  <tbody>\n",
       "    <tr>\n",
       "      <th id=\"T_0f0d5_level0_row0\" class=\"row_heading level0 row0\" >australia oceania</th>\n",
       "      <th id=\"T_0f0d5_level1_row0\" class=\"row_heading level1 row0\" >buyer_5</th>\n",
       "      <td id=\"T_0f0d5_row0_col0\" class=\"data row0 col0\" >0.000000</td>\n",
       "      <td id=\"T_0f0d5_row0_col1\" class=\"data row0 col1\" >nan</td>\n",
       "      <td id=\"T_0f0d5_row0_col2\" class=\"data row0 col2\" >0.000000</td>\n",
       "      <td id=\"T_0f0d5_row0_col3\" class=\"data row0 col3\" >0.134740</td>\n",
       "      <td id=\"T_0f0d5_row0_col4\" class=\"data row0 col4\" >2.155000</td>\n",
       "      <td id=\"T_0f0d5_row0_col5\" class=\"data row0 col5\" >-94.372789</td>\n",
       "    </tr>\n",
       "    <tr>\n",
       "      <th id=\"T_0f0d5_level0_row1\" class=\"row_heading level0 row1\" rowspan=\"4\">cis</th>\n",
       "      <th id=\"T_0f0d5_level1_row1\" class=\"row_heading level1 row1\" >buyer_1</th>\n",
       "      <td id=\"T_0f0d5_row1_col0\" class=\"data row1 col0\" >0.003509</td>\n",
       "      <td id=\"T_0f0d5_row1_col1\" class=\"data row1 col1\" >1.266000</td>\n",
       "      <td id=\"T_0f0d5_row1_col2\" class=\"data row1 col2\" >0.002772</td>\n",
       "      <td id=\"T_0f0d5_row1_col3\" class=\"data row1 col3\" >0.146727</td>\n",
       "      <td id=\"T_0f0d5_row1_col4\" class=\"data row1 col4\" >0.155905</td>\n",
       "      <td id=\"T_0f0d5_row1_col5\" class=\"data row1 col5\" >-40.209875</td>\n",
       "    </tr>\n",
       "    <tr>\n",
       "      <th id=\"T_0f0d5_level1_row2\" class=\"row_heading level1 row2\" >buyer_2</th>\n",
       "      <td id=\"T_0f0d5_row2_col0\" class=\"data row2 col0\" >0.006148</td>\n",
       "      <td id=\"T_0f0d5_row2_col1\" class=\"data row2 col1\" >3.200000</td>\n",
       "      <td id=\"T_0f0d5_row2_col2\" class=\"data row2 col2\" >0.001995</td>\n",
       "      <td id=\"T_0f0d5_row2_col3\" class=\"data row2 col3\" >0.151053</td>\n",
       "      <td id=\"T_0f0d5_row2_col4\" class=\"data row2 col4\" >0.175130</td>\n",
       "      <td id=\"T_0f0d5_row2_col5\" class=\"data row2 col5\" >-65.038812</td>\n",
       "    </tr>\n",
       "    <tr>\n",
       "      <th id=\"T_0f0d5_level1_row3\" class=\"row_heading level1 row3\" >buyer_4</th>\n",
       "      <td id=\"T_0f0d5_row3_col0\" class=\"data row3 col0\" >0.138519</td>\n",
       "      <td id=\"T_0f0d5_row3_col1\" class=\"data row3 col1\" >7.480000</td>\n",
       "      <td id=\"T_0f0d5_row3_col2\" class=\"data row3 col2\" >0.018519</td>\n",
       "      <td id=\"T_0f0d5_row3_col3\" class=\"data row3 col3\" >0.162581</td>\n",
       "      <td id=\"T_0f0d5_row3_col4\" class=\"data row3 col4\" >0.269481</td>\n",
       "      <td id=\"T_0f0d5_row3_col5\" class=\"data row3 col5\" >-63.207309</td>\n",
       "    </tr>\n",
       "    <tr>\n",
       "      <th id=\"T_0f0d5_level1_row4\" class=\"row_heading level1 row4\" >buyer_5</th>\n",
       "      <td id=\"T_0f0d5_row4_col0\" class=\"data row4 col0\" >0.018675</td>\n",
       "      <td id=\"T_0f0d5_row4_col1\" class=\"data row4 col1\" >3.100000</td>\n",
       "      <td id=\"T_0f0d5_row4_col2\" class=\"data row4 col2\" >0.006024</td>\n",
       "      <td id=\"T_0f0d5_row4_col3\" class=\"data row4 col3\" >0.127010</td>\n",
       "      <td id=\"T_0f0d5_row4_col4\" class=\"data row4 col4\" >0.083122</td>\n",
       "      <td id=\"T_0f0d5_row4_col5\" class=\"data row4 col5\" >-60.842444</td>\n",
       "    </tr>\n",
       "    <tr>\n",
       "      <th id=\"T_0f0d5_level0_row5\" class=\"row_heading level0 row5\" >latin america</th>\n",
       "      <th id=\"T_0f0d5_level1_row5\" class=\"row_heading level1 row5\" >buyer_1</th>\n",
       "      <td id=\"T_0f0d5_row5_col0\" class=\"data row5 col0\" >0.010133</td>\n",
       "      <td id=\"T_0f0d5_row5_col1\" class=\"data row5 col1\" >1.653056</td>\n",
       "      <td id=\"T_0f0d5_row5_col2\" class=\"data row5 col2\" >0.003897</td>\n",
       "      <td id=\"T_0f0d5_row5_col3\" class=\"data row5 col3\" >0.040716</td>\n",
       "      <td id=\"T_0f0d5_row5_col4\" class=\"data row5 col4\" >0.092223</td>\n",
       "      <td id=\"T_0f0d5_row5_col5\" class=\"data row5 col5\" >-58.344231</td>\n",
       "    </tr>\n",
       "    <tr>\n",
       "      <th id=\"T_0f0d5_level0_row6\" class=\"row_heading level0 row6\" >north africa</th>\n",
       "      <th id=\"T_0f0d5_level1_row6\" class=\"row_heading level1 row6\" >buyer_5</th>\n",
       "      <td id=\"T_0f0d5_row6_col0\" class=\"data row6 col0\" >0.000000</td>\n",
       "      <td id=\"T_0f0d5_row6_col1\" class=\"data row6 col1\" >nan</td>\n",
       "      <td id=\"T_0f0d5_row6_col2\" class=\"data row6 col2\" >0.000000</td>\n",
       "      <td id=\"T_0f0d5_row6_col3\" class=\"data row6 col3\" >0.004962</td>\n",
       "      <td id=\"T_0f0d5_row6_col4\" class=\"data row6 col4\" >0.026336</td>\n",
       "      <td id=\"T_0f0d5_row6_col5\" class=\"data row6 col5\" >-88.406827</td>\n",
       "    </tr>\n",
       "    <tr>\n",
       "      <th id=\"T_0f0d5_level0_row7\" class=\"row_heading level0 row7\" rowspan=\"5\">north america</th>\n",
       "      <th id=\"T_0f0d5_level1_row7\" class=\"row_heading level1 row7\" >buyer_1</th>\n",
       "      <td id=\"T_0f0d5_row7_col0\" class=\"data row7 col0\" >0.008531</td>\n",
       "      <td id=\"T_0f0d5_row7_col1\" class=\"data row7 col1\" >3.261537</td>\n",
       "      <td id=\"T_0f0d5_row7_col2\" class=\"data row7 col2\" >0.002802</td>\n",
       "      <td id=\"T_0f0d5_row7_col3\" class=\"data row7 col3\" >0.297497</td>\n",
       "      <td id=\"T_0f0d5_row7_col4\" class=\"data row7 col4\" >0.264722</td>\n",
       "      <td id=\"T_0f0d5_row7_col5\" class=\"data row7 col5\" >-48.987377</td>\n",
       "    </tr>\n",
       "    <tr>\n",
       "      <th id=\"T_0f0d5_level1_row8\" class=\"row_heading level1 row8\" >buyer_2</th>\n",
       "      <td id=\"T_0f0d5_row8_col0\" class=\"data row8 col0\" >0.035951</td>\n",
       "      <td id=\"T_0f0d5_row8_col1\" class=\"data row8 col1\" >4.441590</td>\n",
       "      <td id=\"T_0f0d5_row8_col2\" class=\"data row8 col2\" >0.009133</td>\n",
       "      <td id=\"T_0f0d5_row8_col3\" class=\"data row8 col3\" >0.462777</td>\n",
       "      <td id=\"T_0f0d5_row8_col4\" class=\"data row8 col4\" >0.368052</td>\n",
       "      <td id=\"T_0f0d5_row8_col5\" class=\"data row8 col5\" >-33.496043</td>\n",
       "    </tr>\n",
       "    <tr>\n",
       "      <th id=\"T_0f0d5_level1_row9\" class=\"row_heading level1 row9\" >buyer_3</th>\n",
       "      <td id=\"T_0f0d5_row9_col0\" class=\"data row9 col0\" >0.036025</td>\n",
       "      <td id=\"T_0f0d5_row9_col1\" class=\"data row9 col1\" >4.980667</td>\n",
       "      <td id=\"T_0f0d5_row9_col2\" class=\"data row9 col2\" >0.012609</td>\n",
       "      <td id=\"T_0f0d5_row9_col3\" class=\"data row9 col3\" >0.755937</td>\n",
       "      <td id=\"T_0f0d5_row9_col4\" class=\"data row9 col4\" >0.537483</td>\n",
       "      <td id=\"T_0f0d5_row9_col5\" class=\"data row9 col5\" >1.460683</td>\n",
       "    </tr>\n",
       "    <tr>\n",
       "      <th id=\"T_0f0d5_level1_row10\" class=\"row_heading level1 row10\" >buyer_4</th>\n",
       "      <td id=\"T_0f0d5_row10_col0\" class=\"data row10 col0\" >0.041939</td>\n",
       "      <td id=\"T_0f0d5_row10_col1\" class=\"data row10 col1\" >5.997083</td>\n",
       "      <td id=\"T_0f0d5_row10_col2\" class=\"data row10 col2\" >0.007555</td>\n",
       "      <td id=\"T_0f0d5_row10_col3\" class=\"data row10 col3\" >0.515788</td>\n",
       "      <td id=\"T_0f0d5_row10_col4\" class=\"data row10 col4\" >0.483786</td>\n",
       "      <td id=\"T_0f0d5_row10_col5\" class=\"data row10 col5\" >-8.387955</td>\n",
       "    </tr>\n",
       "    <tr>\n",
       "      <th id=\"T_0f0d5_level1_row11\" class=\"row_heading level1 row11\" >buyer_5</th>\n",
       "      <td id=\"T_0f0d5_row11_col0\" class=\"data row11 col0\" >0.014375</td>\n",
       "      <td id=\"T_0f0d5_row11_col1\" class=\"data row11 col1\" >0.690000</td>\n",
       "      <td id=\"T_0f0d5_row11_col2\" class=\"data row11 col2\" >0.020833</td>\n",
       "      <td id=\"T_0f0d5_row11_col3\" class=\"data row11 col3\" >0.531947</td>\n",
       "      <td id=\"T_0f0d5_row11_col4\" class=\"data row11 col4\" >0.691834</td>\n",
       "      <td id=\"T_0f0d5_row11_col5\" class=\"data row11 col5\" >-63.147915</td>\n",
       "    </tr>\n",
       "    <tr>\n",
       "      <th id=\"T_0f0d5_level0_row12\" class=\"row_heading level0 row12\" >tropical africa</th>\n",
       "      <th id=\"T_0f0d5_level1_row12\" class=\"row_heading level1 row12\" >buyer_1</th>\n",
       "      <td id=\"T_0f0d5_row12_col0\" class=\"data row12 col0\" >0.000000</td>\n",
       "      <td id=\"T_0f0d5_row12_col1\" class=\"data row12 col1\" >nan</td>\n",
       "      <td id=\"T_0f0d5_row12_col2\" class=\"data row12 col2\" >0.000000</td>\n",
       "      <td id=\"T_0f0d5_row12_col3\" class=\"data row12 col3\" >0.013303</td>\n",
       "      <td id=\"T_0f0d5_row12_col4\" class=\"data row12 col4\" >0.053355</td>\n",
       "      <td id=\"T_0f0d5_row12_col5\" class=\"data row12 col5\" >-84.457107</td>\n",
       "    </tr>\n",
       "    <tr>\n",
       "      <th id=\"T_0f0d5_level0_row13\" class=\"row_heading level0 row13\" rowspan=\"3\">western europe</th>\n",
       "      <th id=\"T_0f0d5_level1_row13\" class=\"row_heading level1 row13\" >buyer_2</th>\n",
       "      <td id=\"T_0f0d5_row13_col0\" class=\"data row13 col0\" >0.012093</td>\n",
       "      <td id=\"T_0f0d5_row13_col1\" class=\"data row13 col1\" >2.863056</td>\n",
       "      <td id=\"T_0f0d5_row13_col2\" class=\"data row13 col2\" >0.005184</td>\n",
       "      <td id=\"T_0f0d5_row13_col3\" class=\"data row13 col3\" >0.348080</td>\n",
       "      <td id=\"T_0f0d5_row13_col4\" class=\"data row13 col4\" >0.354229</td>\n",
       "      <td id=\"T_0f0d5_row13_col5\" class=\"data row13 col5\" >-32.682204</td>\n",
       "    </tr>\n",
       "    <tr>\n",
       "      <th id=\"T_0f0d5_level1_row14\" class=\"row_heading level1 row14\" >buyer_4</th>\n",
       "      <td id=\"T_0f0d5_row14_col0\" class=\"data row14 col0\" >0.000000</td>\n",
       "      <td id=\"T_0f0d5_row14_col1\" class=\"data row14 col1\" >nan</td>\n",
       "      <td id=\"T_0f0d5_row14_col2\" class=\"data row14 col2\" >0.000000</td>\n",
       "      <td id=\"T_0f0d5_row14_col3\" class=\"data row14 col3\" >0.323137</td>\n",
       "      <td id=\"T_0f0d5_row14_col4\" class=\"data row14 col4\" >0.275598</td>\n",
       "      <td id=\"T_0f0d5_row14_col5\" class=\"data row14 col5\" >-10.606153</td>\n",
       "    </tr>\n",
       "    <tr>\n",
       "      <th id=\"T_0f0d5_level1_row15\" class=\"row_heading level1 row15\" >buyer_5</th>\n",
       "      <td id=\"T_0f0d5_row15_col0\" class=\"data row15 col0\" >0.000000</td>\n",
       "      <td id=\"T_0f0d5_row15_col1\" class=\"data row15 col1\" >nan</td>\n",
       "      <td id=\"T_0f0d5_row15_col2\" class=\"data row15 col2\" >0.000000</td>\n",
       "      <td id=\"T_0f0d5_row15_col3\" class=\"data row15 col3\" >0.310167</td>\n",
       "      <td id=\"T_0f0d5_row15_col4\" class=\"data row15 col4\" >0.349414</td>\n",
       "      <td id=\"T_0f0d5_row15_col5\" class=\"data row15 col5\" >-57.591720</td>\n",
       "    </tr>\n",
       "  </tbody>\n",
       "</table>\n"
      ],
      "text/plain": [
       "<pandas.io.formats.style.Styler at 0x23ad200ad00>"
      ]
     },
     "execution_count": 99,
     "metadata": {},
     "output_type": "execute_result"
    }
   ],
   "source": [
    "df.groupby(['geo', 'buyer'])[['arpu', 'arppu', 'ps_30', 'ad_arpu', 'cpi', 'romi']].mean().style.background_gradient()"
   ]
  },
  {
   "cell_type": "markdown",
   "id": "192f1fc6",
   "metadata": {},
   "source": [
    "По среднему значению ROMI для всех кампаний по медиабайерам и регионам **только у медиабайера №3 значение выше 0**, что скорее всего связано с тем, что рекламные кампании только в Северной Америке. У данного медиабайера также самый высокий Ad ARPU. \n",
    "\n",
    "Высокие средние показатели ARPU и ARPPU у медиабайера №4 по СНГ."
   ]
  },
  {
   "cell_type": "markdown",
   "id": "d0d41f3f",
   "metadata": {},
   "source": [
    "**Выводы:**\n",
    "\n",
    "1) **Наибольшая медиана доли платящих характерна для медибайера №3 и достигает в среднем 1.3% на 30-й день.** Для регионов Австралии и Африки нет платящих пользователей. \n",
    "\n",
    "2) Для части кампаний не было покупок внутри приложения, поэтому ARPU равен 0. **Значения ARPU для большей части находятся в пределах до 0.05 у.е.** Наиболее высокие показатели ARPU характерны для медиабайров №4 и №2. **Медиана ARPU для всех медиабайеров, кроме №3, равна 0.**\n",
    "\n",
    "3) Значение Ad ARPU превышает ARPU in-app, то есть **большая часть дохода - это доход с рекламы.**\n",
    "\n",
    "4) **Медиана Ad ARPU хорошо выделяется для медибайера №3 (рекламные кампании только в Северной Америке). Среди регионов выделяется Северная Америка и Восточная Европа.**\n",
    "\n",
    "5) **Большая часть кампаний на 30-й день не окупилась.** В некоторых случаях процент стремится к -100%. Медиана ROMI для всех медиабайеров находится ниже 0. **Для медиабайеров №1 и №5 нет рекламных кампаний, которые бы окупились.** Для медиабайеров №2 и №4 характерны выбросы ROMI выше 100%. \n",
    "\n",
    "6) Рекламные кампании, которые окупились, характерны только для 2 регионов: Северной Америки и Восточной Европы (выбросы), но медиана для них находится ниже 0. **Худшие показатели окупаемости кампаний в Северной Америке у медиабайеров №1 и №5.**\n",
    "\n",
    "7) Для кампаний с **высокой окупаемостью характерно высокое значение конверсии --> высокое значение Ad ARPU** (в некоторых кампаниях есть покупки внутри приложения), средняя стоимость установки.\n",
    "\n",
    "8) Чем выше цена установки (CPI), тем более вовлеченные пользователи, то есть Ad ARPU выше, что в большей степени связано с фактором региона."
   ]
  },
  {
   "cell_type": "markdown",
   "id": "ea542684",
   "metadata": {},
   "source": [
    "**Рекомендации:**\n",
    "\n",
    "1. **Рекомендуется снизить количество рекламных кампаний в Северной Америке у медиабайров №1 и №3,** так как несмотря на более низкое значение CPI у данных медиабайеров не было кампаний, которые бы окупились. Для них характерно более низкое значение общей конверсии и Ad ARPU (по сравнению с другими медиабайерами в этом же регионе).\n",
    "\n",
    "2. Для региона – Восточная Европа лучше показатели по окупаемости у медиабайера №2 (выброс с высокой окупаемостью) и №4, так как больше установок и регистраций и выше значение Ad ARPU по сравнению с медиабайером №5. **Возможно стоит отказаться от кампаний в этом регионе от медиабайера №5 (данных мало).**\n",
    "\n",
    "3. Для региона СНГ лучшая кампания по окупаемости от медиабайера №1, что скорее всего вызвано более дешевыми установками. Наиболее высокие показатели ARPU для данного региона у медиабайера №4 (данных мало).  \n",
    "\n",
    "4. Несмотря на дешевые установки для кампаний из регионов Африки, Латинской Америки **стоит проанализировать данную целевую аудиторию, потому что кампании в этих регионах имеют низкие показатели окупаемости, «вовлеченности» и отсутствие платящих пользователей.**"
   ]
  }
 ],
 "metadata": {
  "kernelspec": {
   "display_name": "Python 3 (ipykernel)",
   "language": "python",
   "name": "python3"
  },
  "language_info": {
   "codemirror_mode": {
    "name": "ipython",
    "version": 3
   },
   "file_extension": ".py",
   "mimetype": "text/x-python",
   "name": "python",
   "nbconvert_exporter": "python",
   "pygments_lexer": "ipython3",
   "version": "3.9.7"
  }
 },
 "nbformat": 4,
 "nbformat_minor": 5
}
